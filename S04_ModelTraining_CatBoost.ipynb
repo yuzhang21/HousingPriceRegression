{
 "cells": [
  {
   "cell_type": "markdown",
   "metadata": {},
   "source": [
    "# The Boston Housing Assess Dataset"
   ]
  },
  {
   "cell_type": "markdown",
   "metadata": {
    "_cell_guid": "79c7e3d0-c299-4dcb-8224-4455121ee9b0",
    "_uuid": "d629ff2d2480ee46fbb7e2d37f6b5fab8052498a",
    "collapsed": true
   },
   "source": [
    "Part IV: Using Prepared Data before apply categorical data one-hot encoding to train CatBoost model. \n",
    "In this Notebook, we use prepared data without removing the categorical data yet and train CatBoost model\n",
    "using its special feature to take the categorical features.\n",
    "The goal is to understand whether it can bring any benefit to the final results. "
   ]
  },
  {
   "cell_type": "code",
   "execution_count": 1,
   "metadata": {
    "_cell_guid": "d5b0617d-81ab-424f-a1ee-6674925f971e",
    "_uuid": "b08753971c228268b0d2fba0a6978dfcfe9943f4"
   },
   "outputs": [],
   "source": [
    "import os\n",
    "import numpy as np # linear algebra\n",
    "import pandas as pd # data processing, CSV file I/O (e.g. pd.read_csv)\n",
    "import matplotlib.pyplot as plt\n",
    "from IPython.core.display import HTML\n",
    "from pandas import read_csv"
   ]
  },
  {
   "cell_type": "code",
   "execution_count": 2,
   "metadata": {
    "_cell_guid": "5f4d62ac-f9eb-457d-9d4d-9683a5a667cc",
    "_uuid": "7d464c110dc186805b19e709b4443e66d407bdde"
   },
   "outputs": [],
   "source": [
    "from time import time\n",
    "from sklearn.model_selection import train_test_split\n",
    "from sklearn.neural_network import MLPRegressor\n",
    "from sklearn.preprocessing import QuantileTransformer\n"
   ]
  },
  {
   "cell_type": "code",
   "execution_count": 3,
   "metadata": {},
   "outputs": [
    {
     "name": "stdout",
     "output_type": "stream",
     "text": [
      "Input data file:\n",
      " M:\\Work\\Study\\WPI-DS\\CurrentCourse-DS504\\DataSets\\SelectedDataSet\\BigDataset_Preprocess/BH_BigDataset_2020.csv\n"
     ]
    }
   ],
   "source": [
    "myDataPath = 'M:\\\\Work\\\\Study\\\\WPI-DS\\\\CurrentCourse-DS504\\\\DataSets\\\\SelectedDataSet\\\\'\n",
    "subFolder = 'BigDataset_Preprocess/'\n",
    "fileName = 'BH_BigDataset_2020.csv'\n",
    "fileBigData = myDataPath + subFolder + fileName\n",
    "print('Input data file:\\n', fileBigData)"
   ]
  },
  {
   "cell_type": "code",
   "execution_count": 4,
   "metadata": {},
   "outputs": [],
   "source": [
    "#Lets load the dataset and sample some\n",
    "data = read_csv(fileBigData)\n",
    "#print(data.head(5))"
   ]
  },
  {
   "cell_type": "code",
   "execution_count": 5,
   "metadata": {
    "_cell_guid": "fec83140-b3c5-4938-a031-6a34c2ebc45e",
    "_uuid": "79d8bdae5e138554cb4626c784e0cfd43c40606d"
   },
   "outputs": [
    {
     "name": "stdout",
     "output_type": "stream",
     "text": [
      "(161296, 46)\n"
     ]
    }
   ],
   "source": [
    "# Dimension of the dataset\n",
    "print(np.shape(data))"
   ]
  },
  {
   "cell_type": "code",
   "execution_count": 6,
   "metadata": {
    "scrolled": true
   },
   "outputs": [
    {
     "data": {
      "text/html": [
       "<table border=\"1\" class=\"dataframe\">\n",
       "  <thead>\n",
       "    <tr style=\"text-align: right;\">\n",
       "      <th></th>\n",
       "      <th>LU</th>\n",
       "      <th>OWN_OCC</th>\n",
       "      <th>AV_TOTAL</th>\n",
       "      <th>YR_BUILT</th>\n",
       "      <th>YR_REMOD</th>\n",
       "      <th>LIVING_AREA</th>\n",
       "      <th>NUM_FLOORS</th>\n",
       "      <th>R_BLDG_STYL</th>\n",
       "      <th>R_ROOF_TYP</th>\n",
       "      <th>R_EXT_FIN</th>\n",
       "      <th>R_BDRMS</th>\n",
       "      <th>R_FULL_BTH</th>\n",
       "      <th>R_HALF_BTH</th>\n",
       "      <th>R_BTH_STYLE</th>\n",
       "      <th>R_BTH_STYLE2</th>\n",
       "      <th>R_BTH_STYLE3</th>\n",
       "      <th>R_KITCH</th>\n",
       "      <th>R_KITCH_STYLE</th>\n",
       "      <th>R_KITCH_STYLE2</th>\n",
       "      <th>R_KITCH_STYLE3</th>\n",
       "      <th>R_HEAT_TYP</th>\n",
       "      <th>R_AC</th>\n",
       "      <th>R_FPLACE</th>\n",
       "      <th>R_EXT_CND</th>\n",
       "      <th>R_OVRALL_CND</th>\n",
       "      <th>R_INT_CND</th>\n",
       "      <th>R_INT_FIN</th>\n",
       "      <th>R_VIEW</th>\n",
       "      <th>U_BASE_FLOOR</th>\n",
       "      <th>U_NUM_PARK</th>\n",
       "      <th>U_CORNER</th>\n",
       "      <th>U_ORIENT</th>\n",
       "      <th>U_BDRMS</th>\n",
       "      <th>U_FULL_BTH</th>\n",
       "      <th>U_HALF_BTH</th>\n",
       "      <th>U_BTH_STYLE</th>\n",
       "      <th>U_BTH_STYLE2</th>\n",
       "      <th>U_BTH_STYLE3</th>\n",
       "      <th>U_KITCH_TYPE</th>\n",
       "      <th>U_KITCH_STYLE</th>\n",
       "      <th>U_HEAT_TYP</th>\n",
       "      <th>U_AC</th>\n",
       "      <th>U_FPLACE</th>\n",
       "      <th>U_INT_FIN</th>\n",
       "      <th>U_INT_CND</th>\n",
       "      <th>U_VIEW</th>\n",
       "    </tr>\n",
       "  </thead>\n",
       "  <tbody>\n",
       "    <tr>\n",
       "      <th>0</th>\n",
       "      <td>CD</td>\n",
       "      <td>Y</td>\n",
       "      <td>12.806833</td>\n",
       "      <td>1900.000000</td>\n",
       "      <td>7.610358</td>\n",
       "      <td>6.674561</td>\n",
       "      <td>0.693147</td>\n",
       "      <td></td>\n",
       "      <td></td>\n",
       "      <td></td>\n",
       "      <td>1.678680</td>\n",
       "      <td>1.077132</td>\n",
       "      <td>0.248965</td>\n",
       "      <td></td>\n",
       "      <td></td>\n",
       "      <td></td>\n",
       "      <td></td>\n",
       "      <td></td>\n",
       "      <td></td>\n",
       "      <td></td>\n",
       "      <td></td>\n",
       "      <td></td>\n",
       "      <td>0.233692</td>\n",
       "      <td></td>\n",
       "      <td></td>\n",
       "      <td></td>\n",
       "      <td></td>\n",
       "      <td></td>\n",
       "      <td>0.693147</td>\n",
       "      <td>0.000000</td>\n",
       "      <td>N - No</td>\n",
       "      <td>T - Through</td>\n",
       "      <td>1.098612</td>\n",
       "      <td>0.693147</td>\n",
       "      <td>0.000000</td>\n",
       "      <td>M - Modern</td>\n",
       "      <td></td>\n",
       "      <td></td>\n",
       "      <td>F - Full Eat In</td>\n",
       "      <td>M - Modern</td>\n",
       "      <td>W - Ht Water/Steam</td>\n",
       "      <td>N - None</td>\n",
       "      <td>0.000000</td>\n",
       "      <td>N - Normal</td>\n",
       "      <td>G - Good</td>\n",
       "      <td>A - Average</td>\n",
       "    </tr>\n",
       "    <tr>\n",
       "      <th>1</th>\n",
       "      <td>CD</td>\n",
       "      <td>Y</td>\n",
       "      <td>12.830408</td>\n",
       "      <td>1900.000000</td>\n",
       "      <td>7.610358</td>\n",
       "      <td>6.684612</td>\n",
       "      <td>0.693147</td>\n",
       "      <td></td>\n",
       "      <td></td>\n",
       "      <td></td>\n",
       "      <td>1.678680</td>\n",
       "      <td>1.077132</td>\n",
       "      <td>0.248965</td>\n",
       "      <td></td>\n",
       "      <td></td>\n",
       "      <td></td>\n",
       "      <td></td>\n",
       "      <td></td>\n",
       "      <td></td>\n",
       "      <td></td>\n",
       "      <td></td>\n",
       "      <td></td>\n",
       "      <td>0.233692</td>\n",
       "      <td></td>\n",
       "      <td></td>\n",
       "      <td></td>\n",
       "      <td></td>\n",
       "      <td></td>\n",
       "      <td>1.098612</td>\n",
       "      <td>0.000000</td>\n",
       "      <td>N - No</td>\n",
       "      <td>T - Through</td>\n",
       "      <td>1.386294</td>\n",
       "      <td>0.693147</td>\n",
       "      <td>0.000000</td>\n",
       "      <td>M - Modern</td>\n",
       "      <td></td>\n",
       "      <td></td>\n",
       "      <td>F - Full Eat In</td>\n",
       "      <td>M - Modern</td>\n",
       "      <td>W - Ht Water/Steam</td>\n",
       "      <td>N - None</td>\n",
       "      <td>0.000000</td>\n",
       "      <td>N - Normal</td>\n",
       "      <td>G - Good</td>\n",
       "      <td>A - Average</td>\n",
       "    </tr>\n",
       "    <tr>\n",
       "      <th>2</th>\n",
       "      <td>CD</td>\n",
       "      <td>N</td>\n",
       "      <td>12.885123</td>\n",
       "      <td>1900.000000</td>\n",
       "      <td>7.610358</td>\n",
       "      <td>6.812345</td>\n",
       "      <td>0.693147</td>\n",
       "      <td></td>\n",
       "      <td></td>\n",
       "      <td></td>\n",
       "      <td>1.678680</td>\n",
       "      <td>1.077132</td>\n",
       "      <td>0.248965</td>\n",
       "      <td></td>\n",
       "      <td></td>\n",
       "      <td></td>\n",
       "      <td></td>\n",
       "      <td></td>\n",
       "      <td></td>\n",
       "      <td></td>\n",
       "      <td></td>\n",
       "      <td></td>\n",
       "      <td>0.233692</td>\n",
       "      <td></td>\n",
       "      <td></td>\n",
       "      <td></td>\n",
       "      <td></td>\n",
       "      <td></td>\n",
       "      <td>1.386294</td>\n",
       "      <td>0.000000</td>\n",
       "      <td>N - No</td>\n",
       "      <td>T - Through</td>\n",
       "      <td>1.386294</td>\n",
       "      <td>0.693147</td>\n",
       "      <td>0.000000</td>\n",
       "      <td>M - Modern</td>\n",
       "      <td></td>\n",
       "      <td></td>\n",
       "      <td>F - Full Eat In</td>\n",
       "      <td>M - Modern</td>\n",
       "      <td>W - Ht Water/Steam</td>\n",
       "      <td>N - None</td>\n",
       "      <td>0.000000</td>\n",
       "      <td>N - Normal</td>\n",
       "      <td>G - Good</td>\n",
       "      <td>A - Average</td>\n",
       "    </tr>\n",
       "    <tr>\n",
       "      <th>3</th>\n",
       "      <td>R3</td>\n",
       "      <td>Y</td>\n",
       "      <td>13.466947</td>\n",
       "      <td>1900.000000</td>\n",
       "      <td>7.600315</td>\n",
       "      <td>7.785305</td>\n",
       "      <td>1.252763</td>\n",
       "      <td>CV - Conventional</td>\n",
       "      <td>G - Gable</td>\n",
       "      <td>M - Vinyl</td>\n",
       "      <td>2.079442</td>\n",
       "      <td>1.386294</td>\n",
       "      <td>0.000000</td>\n",
       "      <td>S - Semi-Modern</td>\n",
       "      <td>S - Semi-Modern</td>\n",
       "      <td>S - Semi-Modern</td>\n",
       "      <td>3F - 3 Full Eat In K</td>\n",
       "      <td>S - Semi-Modern</td>\n",
       "      <td>S - Semi-Modern</td>\n",
       "      <td>S - Semi-Modern</td>\n",
       "      <td>S - Space Heat</td>\n",
       "      <td>N - None</td>\n",
       "      <td>0.000000</td>\n",
       "      <td>A - Average</td>\n",
       "      <td>A - Average</td>\n",
       "      <td>A - Average</td>\n",
       "      <td>N - Normal</td>\n",
       "      <td>A - Average</td>\n",
       "      <td>1.178433</td>\n",
       "      <td>0.316762</td>\n",
       "      <td></td>\n",
       "      <td></td>\n",
       "      <td>0.973287</td>\n",
       "      <td>0.831791</td>\n",
       "      <td>0.127162</td>\n",
       "      <td></td>\n",
       "      <td></td>\n",
       "      <td></td>\n",
       "      <td></td>\n",
       "      <td></td>\n",
       "      <td></td>\n",
       "      <td></td>\n",
       "      <td>0.192492</td>\n",
       "      <td></td>\n",
       "      <td></td>\n",
       "      <td></td>\n",
       "    </tr>\n",
       "    <tr>\n",
       "      <th>4</th>\n",
       "      <td>RL</td>\n",
       "      <td>N</td>\n",
       "      <td>10.555839</td>\n",
       "      <td>1928.356218</td>\n",
       "      <td>7.600315</td>\n",
       "      <td>6.919180</td>\n",
       "      <td>0.987375</td>\n",
       "      <td></td>\n",
       "      <td></td>\n",
       "      <td></td>\n",
       "      <td>1.678680</td>\n",
       "      <td>1.077132</td>\n",
       "      <td>0.248965</td>\n",
       "      <td></td>\n",
       "      <td></td>\n",
       "      <td></td>\n",
       "      <td></td>\n",
       "      <td></td>\n",
       "      <td></td>\n",
       "      <td></td>\n",
       "      <td></td>\n",
       "      <td></td>\n",
       "      <td>0.233692</td>\n",
       "      <td></td>\n",
       "      <td></td>\n",
       "      <td></td>\n",
       "      <td></td>\n",
       "      <td></td>\n",
       "      <td>1.178433</td>\n",
       "      <td>0.316762</td>\n",
       "      <td></td>\n",
       "      <td></td>\n",
       "      <td>0.973287</td>\n",
       "      <td>0.831791</td>\n",
       "      <td>0.127162</td>\n",
       "      <td></td>\n",
       "      <td></td>\n",
       "      <td></td>\n",
       "      <td></td>\n",
       "      <td></td>\n",
       "      <td></td>\n",
       "      <td></td>\n",
       "      <td>0.192492</td>\n",
       "      <td></td>\n",
       "      <td></td>\n",
       "      <td></td>\n",
       "    </tr>\n",
       "  </tbody>\n",
       "</table>"
      ],
      "text/plain": [
       "<IPython.core.display.HTML object>"
      ]
     },
     "metadata": {},
     "output_type": "display_data"
    }
   ],
   "source": [
    "df = data\n",
    "data = df.replace(np.nan, '', regex=True)\n",
    "display(HTML(data.head().to_html()))"
   ]
  },
  {
   "cell_type": "code",
   "execution_count": 7,
   "metadata": {},
   "outputs": [
    {
     "name": "stdout",
     "output_type": "stream",
     "text": [
      "31\n",
      "Index(['LU', 'OWN_OCC', 'R_BLDG_STYL', 'R_ROOF_TYP', 'R_EXT_FIN',\n",
      "       'R_BTH_STYLE', 'R_BTH_STYLE2', 'R_BTH_STYLE3', 'R_KITCH',\n",
      "       'R_KITCH_STYLE', 'R_KITCH_STYLE2', 'R_KITCH_STYLE3', 'R_HEAT_TYP',\n",
      "       'R_AC', 'R_EXT_CND', 'R_OVRALL_CND', 'R_INT_CND', 'R_INT_FIN', 'R_VIEW',\n",
      "       'U_CORNER', 'U_ORIENT', 'U_BTH_STYLE', 'U_BTH_STYLE2', 'U_BTH_STYLE3',\n",
      "       'U_KITCH_TYPE', 'U_KITCH_STYLE', 'U_HEAT_TYP', 'U_AC', 'U_INT_FIN',\n",
      "       'U_INT_CND', 'U_VIEW'],\n",
      "      dtype='object')\n"
     ]
    }
   ],
   "source": [
    "# Find all categorical features that used as input to CatBoost model\n",
    "catFeatList = data.dtypes[data.dtypes == \"object\"].index\n",
    "print(len(catFeatList))\n",
    "print(catFeatList)"
   ]
  },
  {
   "cell_type": "code",
   "execution_count": 8,
   "metadata": {},
   "outputs": [
    {
     "name": "stdout",
     "output_type": "stream",
     "text": [
      "(161296, 46)\n",
      "(161296, 45)\n",
      "(161296,)\n"
     ]
    }
   ],
   "source": [
    "x = data.loc[:,data.columns != 'AV_TOTAL']\n",
    "y = data['AV_TOTAL']\n",
    "print(data.shape)\n",
    "print(x.shape)\n",
    "print(y.shape)"
   ]
  },
  {
   "cell_type": "code",
   "execution_count": 9,
   "metadata": {},
   "outputs": [
    {
     "name": "stdout",
     "output_type": "stream",
     "text": [
      "(161296, 45)\n",
      "(161296,)\n"
     ]
    }
   ],
   "source": [
    "print(x.shape)\n",
    "print(y.shape)"
   ]
  },
  {
   "cell_type": "code",
   "execution_count": 10,
   "metadata": {},
   "outputs": [],
   "source": [
    "#Split data for model training\n",
    "fSplit = 0.1\n",
    "X_train, X_test, y_train, y_test = train_test_split(x, y, test_size=fSplit, random_state=6)\n",
    "\n",
    "#prepared for training model using split"
   ]
  },
  {
   "cell_type": "code",
   "execution_count": 11,
   "metadata": {},
   "outputs": [],
   "source": [
    "from sklearn.metrics import r2_score\n",
    "from sklearn.metrics import mean_squared_error\n",
    "from sklearn.metrics import mean_absolute_error\n",
    "\n",
    "# Run this after model training, using estimator, it can calculated multiple scores for test data\n",
    "def CalcScore(est):\n",
    "    y1_test = est.predict(X_test)\n",
    "    # Three scores are calculated below\n",
    "    R2 = r2_score(y_test, y1_test)\n",
    "    print('R2 score: ', R2)\n",
    "    mae = mean_absolute_error(y_test, y1_test)\n",
    "    print('MAE score: ', mae)\n",
    "    mse = mean_squared_error(y_test, y1_test)\n",
    "    print('MSE score: ', mse)"
   ]
  },
  {
   "cell_type": "code",
   "execution_count": 12,
   "metadata": {},
   "outputs": [
    {
     "name": "stdout",
     "output_type": "stream",
     "text": [
      "Training CatBoostRegressor...\n",
      "Fit done in 19.1079s\n",
      "Test R2 score: 0.7731\n",
      "R2 score:  0.7730879272613285\n",
      "MAE score:  0.3051379821319515\n",
      "MSE score:  0.2426945312278323\n"
     ]
    }
   ],
   "source": [
    "from catboost import CatBoostRegressor\n",
    "\n",
    "print(\"Training CatBoostRegressor...\")\n",
    "ticS = time()\n",
    "est = CatBoostRegressor(verbose=0, cat_features=catFeatList, n_estimators=100)\n",
    "est.fit(X_train, y_train)\n",
    "ticE = time()\n",
    "print(\"Fit done in {:.4f}s\".format(ticE - ticS))\n",
    "print(\"Test R2 score: {:.4f}\".format(est.score(X_test, y_test)))\n",
    "CalcScore(est)"
   ]
  },
  {
   "cell_type": "code",
   "execution_count": 13,
   "metadata": {},
   "outputs": [
    {
     "name": "stdout",
     "output_type": "stream",
     "text": [
      "Split:  10\n",
      "Custom scoring type:  MSE\n"
     ]
    }
   ],
   "source": [
    "# Collect results in the following map\n",
    "scores_map = {}\n",
    "scores_map_emsemble = {}\n",
    "\n",
    "#from sklearn import preprocessing\n",
    "from sklearn.model_selection import KFold\n",
    "from sklearn.model_selection import cross_val_score\n",
    "\n",
    "nSplits = 10\n",
    "kf = KFold(n_splits=nSplits)\n",
    "\n",
    "#This one is used for cross validation scoring\n",
    "customScoring = 'neg_mean_squared_error'\n",
    "scoreStr = 'MSE'\n",
    "\n",
    "print('Split: ', nSplits)\n",
    "print('Custom scoring type: ', scoreStr)"
   ]
  },
  {
   "cell_type": "code",
   "execution_count": 14,
   "metadata": {},
   "outputs": [
    {
     "name": "stdout",
     "output_type": "stream",
     "text": [
      "Training CatBoostRegressor...\n",
      "CatBoostRegressor CV done in 193.4268s\n",
      "MSE: -0.2872 (+/- 0.0814)\n"
     ]
    }
   ],
   "source": [
    "# Model 9: CB\n",
    "algoName = 'CatBoostRegressor'\n",
    "print(\"Training %s...\" % algoName)\n",
    "ticS = time()\n",
    "\n",
    "cbr = CatBoostRegressor(verbose=0, cat_features=catFeatList, n_estimators=100)\n",
    "scores = cross_val_score(cbr, x, y, cv=kf, scoring=customScoring)\n",
    "ticE = time()\n",
    "scores_map[algoName] = scores\n",
    "scores_map_emsemble[algoName] = scores\n",
    "print(\"{} CV done in {:.4f}s\".format(algoName, ticE - ticS))\n",
    "print(\"%s: %0.4f (+/- %0.4f)\" % (scoreStr, scores.mean(), scores.std()))\n",
    "\n",
    "#Training CatBoostRegressor...\n",
    "#CatBoostRegressor CV done in 74.9145s\n",
    "#MSE: -0.2875 (+/- 0.0664)"
   ]
  }
 ],
 "metadata": {
  "kernelspec": {
   "display_name": "Python 3",
   "language": "python",
   "name": "python3"
  },
  "language_info": {
   "codemirror_mode": {
    "name": "ipython",
    "version": 3
   },
   "file_extension": ".py",
   "mimetype": "text/x-python",
   "name": "python",
   "nbconvert_exporter": "python",
   "pygments_lexer": "ipython3",
   "version": "3.6.4"
  }
 },
 "nbformat": 4,
 "nbformat_minor": 1
}
