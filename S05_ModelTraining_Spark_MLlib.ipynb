{
 "cells": [
  {
   "cell_type": "markdown",
   "metadata": {},
   "source": [
    "# The Boston Housing Assess Dataset Analysis Project"
   ]
  },
  {
   "cell_type": "code",
   "execution_count": null,
   "metadata": {},
   "outputs": [],
   "source": [
    "# Part V: Using Spark and MLlib to train \n",
    "# In this Notebook, we will use the prepared dataset to train two ensamble regressors available in MLlib\n",
    "# Gradient Boosted Trees (GBTs) and RandomForest (RF)"
   ]
  },
  {
   "cell_type": "code",
   "execution_count": null,
   "metadata": {},
   "outputs": [],
   "source": [
    "# Init to use spark\n",
    "import findspark\n",
    "findspark.init('C:/Apps/Spark/spark-3.0.0-bin-hadoop2.7')\n",
    "from pyspark import SparkContext"
   ]
  },
  {
   "cell_type": "code",
   "execution_count": null,
   "metadata": {},
   "outputs": [],
   "source": [
    "# Other imports\n",
    "from pyspark.mllib.tree import GradientBoostedTrees, GradientBoostedTreesModel\n",
    "from pyspark.mllib.tree import RandomForest, RandomForestModel\n",
    "from pyspark.mllib.util import MLUtils"
   ]
  },
  {
   "cell_type": "code",
   "execution_count": null,
   "metadata": {},
   "outputs": [],
   "source": [
    "# Create a Spark Context\n",
    "sc = SparkContext(appName=\"PythonGBTreesRegressionExample\")"
   ]
  },
  {
   "cell_type": "code",
   "execution_count": null,
   "metadata": {},
   "outputs": [],
   "source": [
    "# Load and parse the data file.\n",
    "path = 'M:/Work/Study/WPI-DS/CurrentCourse-DS504/DataSets/SelectedDataSet/'\n",
    "#fname = 'BH_SmallP_libsvm.data'\n",
    "fname = 'BH_BigP_libsvm.data'\n",
    "fullname = path + fname\n",
    "print(fullname)\n",
    "data = MLUtils.loadLibSVMFile(sc, fullname)"
   ]
  },
  {
   "cell_type": "markdown",
   "metadata": {},
   "source": [
    "## 1. Gradient Boosted Tree Regressor"
   ]
  },
  {
   "cell_type": "markdown",
   "metadata": {},
   "source": [
    "### Part 1: Data Split Model Training"
   ]
  },
  {
   "cell_type": "code",
   "execution_count": null,
   "metadata": {},
   "outputs": [],
   "source": [
    "from time import time"
   ]
  },
  {
   "cell_type": "code",
   "execution_count": null,
   "metadata": {},
   "outputs": [],
   "source": [
    "# Set iteration default 20 : 100\n",
    "nIteration = 100 \n",
    "print(nIteration)"
   ]
  },
  {
   "cell_type": "code",
   "execution_count": null,
   "metadata": {},
   "outputs": [],
   "source": [
    "testPart = 0.3\n",
    "# Split the data into training and test sets (30% held out for testing)\n",
    "(trainingData, testData) = data.randomSplit([1.0 - testPart, testPart])"
   ]
  },
  {
   "cell_type": "code",
   "execution_count": null,
   "metadata": {},
   "outputs": [],
   "source": [
    "ticS = time()\n",
    "# Train a GradientBoostedTrees model.\n",
    "#  Notes: (a) Empty categoricalFeaturesInfo indicates all features are continuous.\n",
    "#         (b) Use more iterations in practice.\n",
    "model = GradientBoostedTrees.trainRegressor(trainingData,\n",
    "                                             categoricalFeaturesInfo={}, numIterations=nIteration)\n",
    "ticE1 = time()\n",
    "# Evaluate model on test instances and compute test error\n",
    "predictions = model.predict(testData.map(lambda x: x.features))\n",
    "ticE2 = time()\n",
    "labelsAndPredictions = testData.map(lambda lp: lp.label).zip(predictions)\n",
    "ticE3 = time()\n",
    "testMSE = labelsAndPredictions.map(lambda lp: (lp[0] - lp[1]) * (lp[0] - lp[1])).sum() /\\\n",
    "    float(testData.count())\n",
    "ticE4 = time()\n",
    "\n",
    "print(\"Step 1: Training model numIter: {} done in {:.4f}s\".format(nIteration, ticE1 - ticS))\n",
    "print(\"Step 2: Predict part: {} done in {:.4f}s\".format(testPart, ticE2 - ticE1))\n",
    "print(\"Step 3: Zip test data done in {:.4f}s\".format(testPart, ticE3 - ticE2))\n",
    "print(\"Step 4: Calc MSE done in {:.4f}s\".format(ticE4 - ticE3))\n",
    "print(\"Step 5: Total time {:.4f}s\".format(ticE4 - ticS))\n",
    "\n",
    "print('Test Mean Squared Error = ' + str(testMSE))\n",
    "print('Learned regression GBT model:')\n",
    "print(model.toDebugString())\n",
    "\n",
    "#Not working for 100 iter!"
   ]
  },
  {
   "cell_type": "code",
   "execution_count": null,
   "metadata": {},
   "outputs": [],
   "source": [
    "# Save the model\n",
    "fullpath = path + \"target/tmp/myGradientBoostingRegressionModel\"\n",
    "print('Save model to: ', fullpath)\n",
    "# Save and load model\n",
    "model.save(sc, fullpath)\n",
    "sameModel = GradientBoostedTreesModel.load(sc, fullpath)"
   ]
  },
  {
   "cell_type": "markdown",
   "metadata": {},
   "source": [
    "### Part 2: Cross Validation"
   ]
  },
  {
   "cell_type": "code",
   "execution_count": null,
   "metadata": {},
   "outputs": [],
   "source": [
    "from sklearn.model_selection import cross_val_score\n",
    "from sklearn.model_selection import KFold\n",
    "from sklearn import preprocessing"
   ]
  },
  {
   "cell_type": "code",
   "execution_count": null,
   "metadata": {},
   "outputs": [],
   "source": [
    "scores_map = {}\n",
    "scores_map_emsemble = {}\n",
    "\n",
    "min_max_scaler = preprocessing.MinMaxScaler()\n",
    "x_scaled = min_max_scaler.fit_transform(x)\n",
    "\n",
    "nSplits = 10\n",
    "kf = KFold(n_splits=nSplits)\n",
    "\n",
    "#This one is used for cross validation scoring\n",
    "customScoring = 'neg_mean_squared_error'\n",
    "scoreStr = 'MSE'\n",
    "\n",
    "print('Split: ', nSplits)\n",
    "print('Custom scoring type: ', scoreStr)"
   ]
  },
  {
   "cell_type": "code",
   "execution_count": null,
   "metadata": {},
   "outputs": [],
   "source": [
    "algoName = 'GradientBoostedTrees'\n",
    "print(\"Training %s...\" % algoName)\n",
    "ticS = time()\n",
    "\n",
    "desc_rf = GradientBoostedTrees.trainRegressor(trainingData,\n",
    "                                             categoricalFeaturesInfo={}, numIterations=nIteration)\n",
    "\n",
    "scores = cross_val_score(desc_rf, x_scaled, y, cv=kf, scoring=customScoring)\n",
    "ticE = time()\n",
    "scores_map[algoName] = scores\n",
    "scores_map_emsemble[algoName] = scores\n",
    "print(\"{} CV done in {:.4f}s\".format(algoName, ticE - ticS))\n",
    "print(\"%s: %0.4f (+/- %0.4f)\" % (scoreStr, scores.mean(), scores.std()))"
   ]
  },
  {
   "cell_type": "markdown",
   "metadata": {},
   "source": [
    "## 2. Random Forest Regressor"
   ]
  },
  {
   "cell_type": "code",
   "execution_count": null,
   "metadata": {},
   "outputs": [],
   "source": [
    "algoName = 'RandomForestRegressor'\n",
    "print(\"Training %s...\" % algoName)\n",
    "ticS = time()\n",
    "\n",
    "desc_rf = RandomForest.trainRegressor(trainingData, categoricalFeaturesInfo={},\n",
    "                                    numTrees=nIteration, featureSubsetStrategy=\"auto\",\n",
    "                                    impurity='variance', maxDepth=4, maxBins=32)\n",
    "\n",
    "scores = cross_val_score(desc_rf, x_scaled, y, cv=kf, scoring=customScoring)\n",
    "ticE = time()\n",
    "scores_map[algoName] = scores\n",
    "scores_map_emsemble[algoName] = scores\n",
    "print(\"{} CV done in {:.4f}s\".format(algoName, ticE - ticS))\n",
    "print(\"%s: %0.4f (+/- %0.4f)\" % (scoreStr, scores.mean(), scores.std()))"
   ]
  },
  {
   "cell_type": "code",
   "execution_count": null,
   "metadata": {},
   "outputs": [],
   "source": [
    "ticS = time()\n",
    "# Train a RandomForest model.\n",
    "#  Empty categoricalFeaturesInfo indicates all features are continuous.\n",
    "#  Note: Use larger numTrees in practice.\n",
    "#  Setting featureSubsetStrategy=\"auto\" lets the algorithm choose.\n",
    "model = RandomForest.trainRegressor(trainingData, categoricalFeaturesInfo={},\n",
    "                                    numTrees=nIteration, featureSubsetStrategy=\"auto\",\n",
    "                                    impurity='variance', maxDepth=4, maxBins=32)\n",
    "ticE1 = time()\n",
    "\n",
    "# Evaluate model on test instances and compute test error\n",
    "predictions = model.predict(testData.map(lambda x: x.features))\n",
    "ticE2 = time()\n",
    "labelsAndPredictions = testData.map(lambda lp: lp.label).zip(predictions)\n",
    "ticE3 = time()\n",
    "testMSE = labelsAndPredictions.map(lambda lp: (lp[0] - lp[1]) * (lp[0] - lp[1])).sum() /\\\n",
    "    float(testData.count())\n",
    "ticE4 = time()\n",
    "\n",
    "print(\"Step 1: Training model numTrees: {} done in {:.4f}s\".format(nIteration, ticE1 - ticS))\n",
    "print(\"Step 2: Predict part: {} done in {:.4f}s\".format(testPart, ticE2 - ticE1))\n",
    "print(\"Step 3: Zip test data done in {:.4f}s\".format(testPart, ticE3 - ticE2))\n",
    "print(\"Step 4: Calc MSE done in {:.4f}s\".format(ticE4 - ticE3))\n",
    "print(\"Step 5: Total time {:.4f}s\".format(ticE4 - ticS))\n",
    "\n",
    "print('Test Mean Squared Error = ' + str(testMSE))\n",
    "print('Learned regression forest model:')\n",
    "print(model.toDebugString())\n"
   ]
  },
  {
   "cell_type": "code",
   "execution_count": null,
   "metadata": {},
   "outputs": [],
   "source": [
    "# save model\n",
    "fullpath = path + \"target/tmp/myRandomForestRegressionModel\"\n",
    "print('Save model to: ', fullpath)\n",
    "# Save and load model\n",
    "model.save(sc, fullpath)\n",
    "sameModel = RandomForestModel.load(sc, fullpath)"
   ]
  }
 ],
 "metadata": {
  "kernelspec": {
   "display_name": "Python 3",
   "language": "python",
   "name": "python3"
  },
  "language_info": {
   "codemirror_mode": {
    "name": "ipython",
    "version": 3
   },
   "file_extension": ".py",
   "mimetype": "text/x-python",
   "name": "python",
   "nbconvert_exporter": "python",
   "pygments_lexer": "ipython3",
   "version": "3.6.4"
  }
 },
 "nbformat": 4,
 "nbformat_minor": 2
}
