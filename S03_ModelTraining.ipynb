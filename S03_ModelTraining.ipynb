{
 "cells": [
  {
   "cell_type": "markdown",
   "metadata": {},
   "source": [
    "# The Boston Housing Assess Dataset Analysis Project"
   ]
  },
  {
   "cell_type": "markdown",
   "metadata": {
    "_cell_guid": "79c7e3d0-c299-4dcb-8224-4455121ee9b0",
    "_uuid": "d629ff2d2480ee46fbb7e2d37f6b5fab8052498a",
    "collapsed": true
   },
   "source": [
    "Part III: Using Prepared Data to Train many models\n",
    "In this Notebook, we use prepared data to train different models and compare their performances. \n",
    "The data used can be before or after feature selection work as well as from different years. \n",
    "Multi-year combined data are not tested yet. "
   ]
  },
  {
   "cell_type": "code",
   "execution_count": 1,
   "metadata": {
    "_cell_guid": "d5b0617d-81ab-424f-a1ee-6674925f971e",
    "_uuid": "b08753971c228268b0d2fba0a6978dfcfe9943f4"
   },
   "outputs": [],
   "source": [
    "import os\n",
    "import numpy as np # linear algebra\n",
    "import pandas as pd # data processing, CSV file I/O (e.g. pd.read_csv)\n",
    "import matplotlib.pyplot as plt\n",
    "from IPython.core.display import HTML\n",
    "from pandas import read_csv"
   ]
  },
  {
   "cell_type": "code",
   "execution_count": 2,
   "metadata": {
    "_cell_guid": "5f4d62ac-f9eb-457d-9d4d-9683a5a667cc",
    "_uuid": "7d464c110dc186805b19e709b4443e66d407bdde"
   },
   "outputs": [],
   "source": [
    "from time import time\n",
    "from sklearn.model_selection import train_test_split"
   ]
  },
  {
   "cell_type": "code",
   "execution_count": 3,
   "metadata": {},
   "outputs": [],
   "source": [
    "from sklearn.experimental import enable_hist_gradient_boosting  # noqa\n",
    "from sklearn.ensemble import HistGradientBoostingRegressor\n",
    "from sklearn.ensemble import GradientBoostingRegressor\n",
    "from sklearn.ensemble import ExtraTreesRegressor\n",
    "from sklearn.ensemble import RandomForestRegressor\n",
    "from sklearn.ensemble import AdaBoostRegressor\n",
    "from sklearn.tree import DecisionTreeRegressor"
   ]
  },
  {
   "cell_type": "code",
   "execution_count": 4,
   "metadata": {},
   "outputs": [
    {
     "name": "stderr",
     "output_type": "stream",
     "text": [
      "C:\\ProgramData\\Anaconda3\\lib\\site-packages\\dask\\dataframe\\utils.py:14: FutureWarning: pandas.util.testing is deprecated. Use the functions in the public API at pandas.testing instead.\n",
      "  import pandas.util.testing as tm\n"
     ]
    }
   ],
   "source": [
    "from xgboost import XGBRegressor\n",
    "from lightgbm import LGBMRegressor\n",
    "from catboost import CatBoostRegressor"
   ]
  },
  {
   "cell_type": "code",
   "execution_count": 5,
   "metadata": {},
   "outputs": [
    {
     "name": "stdout",
     "output_type": "stream",
     "text": [
      "Input data file:\n",
      " M:\\Work\\Study\\WPI-DS\\CurrentCourse-DS504\\DataSets\\SelectedDataSet\\BigDataset_Preprocess/BH_BigDataset_2020Full.csv\n",
      "Output data file:\n",
      " M:\\Work\\Study\\WPI-DS\\CurrentCourse-DS504\\DataSets\\SelectedDataSet\\BigDataset_Preprocess/BH_BigDataset_2020Reduced.csv\n"
     ]
    }
   ],
   "source": [
    "myDataPath = 'M:\\\\Work\\\\Study\\\\WPI-DS\\\\CurrentCourse-DS504\\\\DataSets\\\\SelectedDataSet\\\\'\n",
    "subFolder = 'BigDataset_Preprocess/'\n",
    "fileName = 'BH_BigDataset_2020Full.csv'\n",
    "outputFame = 'BH_BigDataset_2020Reduced.csv'\n",
    "fileBigData = myDataPath + subFolder + fileName\n",
    "fileBigDataReduced = myDataPath + subFolder + outputFame\n",
    "print('Input data file:\\n', fileBigData)\n",
    "print('Output data file:\\n', fileBigDataReduced)"
   ]
  },
  {
   "cell_type": "code",
   "execution_count": 6,
   "metadata": {},
   "outputs": [],
   "source": [
    "#Lets load the dataset and sample some\n",
    "data = read_csv(fileBigDataReduced)\n",
    "#print(data.head(5))"
   ]
  },
  {
   "cell_type": "code",
   "execution_count": 7,
   "metadata": {
    "_cell_guid": "fec83140-b3c5-4938-a031-6a34c2ebc45e",
    "_uuid": "79d8bdae5e138554cb4626c784e0cfd43c40606d"
   },
   "outputs": [
    {
     "name": "stdout",
     "output_type": "stream",
     "text": [
      "(161296, 121)\n"
     ]
    }
   ],
   "source": [
    "# Dimension of the dataset\n",
    "print(np.shape(data))"
   ]
  },
  {
   "cell_type": "code",
   "execution_count": 8,
   "metadata": {
    "scrolled": true
   },
   "outputs": [
    {
     "name": "stdout",
     "output_type": "stream",
     "text": [
      "Index(['AV_TOTAL', 'LIVING_AREA', 'NUM_FLOORS', 'R_FULL_BTH', 'U_FULL_BTH',\n",
      "       'U_HALF_BTH', 'U_FPLACE', 'LU_A', 'LU_CL', 'LU_CP',\n",
      "       ...\n",
      "       'LU_EA', 'R_HALF_BTH', 'LU_R1', 'R_BLDG_STYL_RM - Row Middle',\n",
      "       'R_OVRALL_CND_A - Average', 'R_BLDG_STYL_SD - Semi-Det',\n",
      "       'R_EXT_FIN_W - Wood Shake', 'R_BLDG_STYL_RE - Row End',\n",
      "       'U_KITCH_TYPE_O - One Person', 'U_ORIENT_C - Courtyard'],\n",
      "      dtype='object', length=121)\n"
     ]
    },
    {
     "data": {
      "text/html": [
       "<table border=\"1\" class=\"dataframe\">\n",
       "  <thead>\n",
       "    <tr style=\"text-align: right;\">\n",
       "      <th></th>\n",
       "      <th>AV_TOTAL</th>\n",
       "      <th>LIVING_AREA</th>\n",
       "      <th>NUM_FLOORS</th>\n",
       "      <th>R_FULL_BTH</th>\n",
       "      <th>U_FULL_BTH</th>\n",
       "      <th>U_HALF_BTH</th>\n",
       "      <th>U_FPLACE</th>\n",
       "      <th>LU_A</th>\n",
       "      <th>LU_CL</th>\n",
       "      <th>LU_CP</th>\n",
       "      <th>LU_R3</th>\n",
       "      <th>LU_RL</th>\n",
       "      <th>OWN_OCC_N</th>\n",
       "      <th>OWN_OCC_Y</th>\n",
       "      <th>R_ROOF_TYP_F - Flat</th>\n",
       "      <th>R_EXT_FIN_B - Brick/Stone</th>\n",
       "      <th>R_BTH_STYLE_M - Modern</th>\n",
       "      <th>R_BTH_STYLE2_M - Modern</th>\n",
       "      <th>R_BTH_STYLE3_M - Modern</th>\n",
       "      <th>R_KITCH_3F - 3 Full Eat In K</th>\n",
       "      <th>R_KITCH_STYLE_M - Modern</th>\n",
       "      <th>R_HEAT_TYP_W - Ht Water/Steam</th>\n",
       "      <th>R_AC_C - Central AC</th>\n",
       "      <th>R_AC_N - None</th>\n",
       "      <th>R_EXT_CND_G - Good</th>\n",
       "      <th>R_OVRALL_CND_G - Good</th>\n",
       "      <th>R_INT_CND_G - Good</th>\n",
       "      <th>R_INT_FIN_N - Normal</th>\n",
       "      <th>R_VIEW_A - Average</th>\n",
       "      <th>U_BTH_STYLE_L - Luxury</th>\n",
       "      <th>U_BTH_STYLE_M - Modern</th>\n",
       "      <th>U_BTH_STYLE2_L - Luxury</th>\n",
       "      <th>U_BTH_STYLE2_M - Modern</th>\n",
       "      <th>U_BTH_STYLE3_L - Luxury</th>\n",
       "      <th>U_BTH_STYLE3_M - Modern</th>\n",
       "      <th>U_KITCH_STYLE_L - Luxury</th>\n",
       "      <th>U_HEAT_TYP_F - Forced Hot Air</th>\n",
       "      <th>U_AC_C - Central AC</th>\n",
       "      <th>U_INT_FIN_E - Elaborate</th>\n",
       "      <th>U_INT_CND_E - Excellent</th>\n",
       "      <th>U_VIEW_E - Excellent</th>\n",
       "      <th>U_HEAT_TYP_N - None</th>\n",
       "      <th>U_HEAT_TYP_E - Electric</th>\n",
       "      <th>U_HEAT_TYP_W - Ht Water/Steam</th>\n",
       "      <th>U_HEAT_TYP_P - Heat Pump</th>\n",
       "      <th>U_HEAT_TYP_S - Space Heat</th>\n",
       "      <th>U_HEAT_TYP_O - Other</th>\n",
       "      <th>R_KITCH_STYLE3_M - Modern</th>\n",
       "      <th>U_BTH_STYLE_S - Semi-Modern</th>\n",
       "      <th>U_BTH_STYLE_N - No Remodeling</th>\n",
       "      <th>U_INT_FIN_G - Good</th>\n",
       "      <th>U_INT_FIN_N - Normal</th>\n",
       "      <th>U_INT_FIN_S - Substandard</th>\n",
       "      <th>LU_RC</th>\n",
       "      <th>LU_R4</th>\n",
       "      <th>LU_I</th>\n",
       "      <th>R_KITCH_STYLE2_M - Modern</th>\n",
       "      <th>U_AC_N - None</th>\n",
       "      <th>U_AC_D - Ductless AC</th>\n",
       "      <th>U_INT_CND_P - Poor</th>\n",
       "      <th>U_INT_CND_A - Average</th>\n",
       "      <th>U_INT_CND_F - Fair</th>\n",
       "      <th>U_INT_CND_G - Good</th>\n",
       "      <th>YR_BUILT</th>\n",
       "      <th>R_OVRALL_CND_F - Fair</th>\n",
       "      <th>R_OVRALL_CND_P - Poor</th>\n",
       "      <th>R_INT_CND_A - Average</th>\n",
       "      <th>R_INT_CND_E - Excellent</th>\n",
       "      <th>R_INT_CND_F - Fair</th>\n",
       "      <th>R_INT_CND_P - Poor</th>\n",
       "      <th>R_INT_FIN_E - Elaborate</th>\n",
       "      <th>R_OVRALL_CND_E - Excellent</th>\n",
       "      <th>R_VIEW_E - Excellent</th>\n",
       "      <th>R_VIEW_F - Fair</th>\n",
       "      <th>R_ROOF_TYP_M - Mansard</th>\n",
       "      <th>R_ROOF_TYP_O - Other</th>\n",
       "      <th>R_ROOF_TYP_S - Shed</th>\n",
       "      <th>R_EXT_FIN_10 - Alum/Vinyl</th>\n",
       "      <th>R_EXT_FIN_A - Asbestos</th>\n",
       "      <th>R_EXT_FIN_C - Cement Board</th>\n",
       "      <th>R_EXT_FIN_F - Frame/Clapbrd</th>\n",
       "      <th>R_EXT_FIN_G - Glass</th>\n",
       "      <th>R_EXT_FIN_K - Concrete</th>\n",
       "      <th>R_EXT_FIN_M - Vinyl</th>\n",
       "      <th>R_EXT_FIN_O - Other</th>\n",
       "      <th>R_EXT_FIN_P - Asphalt</th>\n",
       "      <th>R_EXT_FIN_U - Alum Siding</th>\n",
       "      <th>U_VIEW_S - Special</th>\n",
       "      <th>LU_AH</th>\n",
       "      <th>U_KITCH_STYLE_N - No Remodeling</th>\n",
       "      <th>U_KITCH_STYLE_S - Semi-Modern</th>\n",
       "      <th>U_KITCH_STYLE_M - Modern</th>\n",
       "      <th>U_VIEW_A - Average</th>\n",
       "      <th>R_AC_Y - Yes</th>\n",
       "      <th>R_KITCH_F - Full Eat In</th>\n",
       "      <th>R_KITCH_O - One Person</th>\n",
       "      <th>U_VIEW_P - Poor</th>\n",
       "      <th>U_VIEW_G - Good</th>\n",
       "      <th>U_CORNER_Y - Yes</th>\n",
       "      <th>U_KITCH_TYPE_N - None</th>\n",
       "      <th>R_BLDG_STYL_99 - Vacant</th>\n",
       "      <th>LU_C</th>\n",
       "      <th>LU_CD</th>\n",
       "      <th>U_BASE_FLOOR</th>\n",
       "      <th>YR_REMOD</th>\n",
       "      <th>U_BDRMS</th>\n",
       "      <th>R_FPLACE</th>\n",
       "      <th>R_BDRMS</th>\n",
       "      <th>U_NUM_PARK</th>\n",
       "      <th>LU_E</th>\n",
       "      <th>U_ORIENT_T - Through</th>\n",
       "      <th>LU_EA</th>\n",
       "      <th>R_HALF_BTH</th>\n",
       "      <th>LU_R1</th>\n",
       "      <th>R_BLDG_STYL_RM - Row Middle</th>\n",
       "      <th>R_OVRALL_CND_A - Average</th>\n",
       "      <th>R_BLDG_STYL_SD - Semi-Det</th>\n",
       "      <th>R_EXT_FIN_W - Wood Shake</th>\n",
       "      <th>R_BLDG_STYL_RE - Row End</th>\n",
       "      <th>U_KITCH_TYPE_O - One Person</th>\n",
       "      <th>U_ORIENT_C - Courtyard</th>\n",
       "    </tr>\n",
       "  </thead>\n",
       "  <tbody>\n",
       "    <tr>\n",
       "      <th>0</th>\n",
       "      <td>12.806833</td>\n",
       "      <td>6.674561</td>\n",
       "      <td>0.693147</td>\n",
       "      <td>1.077132</td>\n",
       "      <td>0.693147</td>\n",
       "      <td>0.000000</td>\n",
       "      <td>0.000000</td>\n",
       "      <td>0</td>\n",
       "      <td>0</td>\n",
       "      <td>0</td>\n",
       "      <td>0</td>\n",
       "      <td>0</td>\n",
       "      <td>0</td>\n",
       "      <td>1</td>\n",
       "      <td>0</td>\n",
       "      <td>0</td>\n",
       "      <td>0</td>\n",
       "      <td>0</td>\n",
       "      <td>0</td>\n",
       "      <td>0</td>\n",
       "      <td>0</td>\n",
       "      <td>0</td>\n",
       "      <td>0</td>\n",
       "      <td>0</td>\n",
       "      <td>0</td>\n",
       "      <td>0</td>\n",
       "      <td>0</td>\n",
       "      <td>0</td>\n",
       "      <td>0</td>\n",
       "      <td>0</td>\n",
       "      <td>1</td>\n",
       "      <td>0</td>\n",
       "      <td>0</td>\n",
       "      <td>0</td>\n",
       "      <td>0</td>\n",
       "      <td>0</td>\n",
       "      <td>0</td>\n",
       "      <td>0</td>\n",
       "      <td>0</td>\n",
       "      <td>0</td>\n",
       "      <td>0</td>\n",
       "      <td>0</td>\n",
       "      <td>0</td>\n",
       "      <td>1</td>\n",
       "      <td>0</td>\n",
       "      <td>0</td>\n",
       "      <td>0</td>\n",
       "      <td>0</td>\n",
       "      <td>0</td>\n",
       "      <td>0</td>\n",
       "      <td>0</td>\n",
       "      <td>1</td>\n",
       "      <td>0</td>\n",
       "      <td>0</td>\n",
       "      <td>0</td>\n",
       "      <td>0</td>\n",
       "      <td>0</td>\n",
       "      <td>1</td>\n",
       "      <td>0</td>\n",
       "      <td>0</td>\n",
       "      <td>0</td>\n",
       "      <td>0</td>\n",
       "      <td>1</td>\n",
       "      <td>1900.000000</td>\n",
       "      <td>0</td>\n",
       "      <td>0</td>\n",
       "      <td>0</td>\n",
       "      <td>0</td>\n",
       "      <td>0</td>\n",
       "      <td>0</td>\n",
       "      <td>0</td>\n",
       "      <td>0</td>\n",
       "      <td>0</td>\n",
       "      <td>0</td>\n",
       "      <td>0</td>\n",
       "      <td>0</td>\n",
       "      <td>0</td>\n",
       "      <td>0</td>\n",
       "      <td>0</td>\n",
       "      <td>0</td>\n",
       "      <td>0</td>\n",
       "      <td>0</td>\n",
       "      <td>0</td>\n",
       "      <td>0</td>\n",
       "      <td>0</td>\n",
       "      <td>0</td>\n",
       "      <td>0</td>\n",
       "      <td>0</td>\n",
       "      <td>0</td>\n",
       "      <td>0</td>\n",
       "      <td>0</td>\n",
       "      <td>1</td>\n",
       "      <td>1</td>\n",
       "      <td>0</td>\n",
       "      <td>0</td>\n",
       "      <td>0</td>\n",
       "      <td>0</td>\n",
       "      <td>0</td>\n",
       "      <td>0</td>\n",
       "      <td>0</td>\n",
       "      <td>0</td>\n",
       "      <td>0</td>\n",
       "      <td>1</td>\n",
       "      <td>0.693147</td>\n",
       "      <td>7.610358</td>\n",
       "      <td>1.098612</td>\n",
       "      <td>0.233692</td>\n",
       "      <td>1.678680</td>\n",
       "      <td>0.000000</td>\n",
       "      <td>0</td>\n",
       "      <td>1</td>\n",
       "      <td>0</td>\n",
       "      <td>0.248965</td>\n",
       "      <td>0</td>\n",
       "      <td>0</td>\n",
       "      <td>0</td>\n",
       "      <td>0</td>\n",
       "      <td>0</td>\n",
       "      <td>0</td>\n",
       "      <td>0</td>\n",
       "      <td>0</td>\n",
       "    </tr>\n",
       "    <tr>\n",
       "      <th>1</th>\n",
       "      <td>12.830408</td>\n",
       "      <td>6.684612</td>\n",
       "      <td>0.693147</td>\n",
       "      <td>1.077132</td>\n",
       "      <td>0.693147</td>\n",
       "      <td>0.000000</td>\n",
       "      <td>0.000000</td>\n",
       "      <td>0</td>\n",
       "      <td>0</td>\n",
       "      <td>0</td>\n",
       "      <td>0</td>\n",
       "      <td>0</td>\n",
       "      <td>0</td>\n",
       "      <td>1</td>\n",
       "      <td>0</td>\n",
       "      <td>0</td>\n",
       "      <td>0</td>\n",
       "      <td>0</td>\n",
       "      <td>0</td>\n",
       "      <td>0</td>\n",
       "      <td>0</td>\n",
       "      <td>0</td>\n",
       "      <td>0</td>\n",
       "      <td>0</td>\n",
       "      <td>0</td>\n",
       "      <td>0</td>\n",
       "      <td>0</td>\n",
       "      <td>0</td>\n",
       "      <td>0</td>\n",
       "      <td>0</td>\n",
       "      <td>1</td>\n",
       "      <td>0</td>\n",
       "      <td>0</td>\n",
       "      <td>0</td>\n",
       "      <td>0</td>\n",
       "      <td>0</td>\n",
       "      <td>0</td>\n",
       "      <td>0</td>\n",
       "      <td>0</td>\n",
       "      <td>0</td>\n",
       "      <td>0</td>\n",
       "      <td>0</td>\n",
       "      <td>0</td>\n",
       "      <td>1</td>\n",
       "      <td>0</td>\n",
       "      <td>0</td>\n",
       "      <td>0</td>\n",
       "      <td>0</td>\n",
       "      <td>0</td>\n",
       "      <td>0</td>\n",
       "      <td>0</td>\n",
       "      <td>1</td>\n",
       "      <td>0</td>\n",
       "      <td>0</td>\n",
       "      <td>0</td>\n",
       "      <td>0</td>\n",
       "      <td>0</td>\n",
       "      <td>1</td>\n",
       "      <td>0</td>\n",
       "      <td>0</td>\n",
       "      <td>0</td>\n",
       "      <td>0</td>\n",
       "      <td>1</td>\n",
       "      <td>1900.000000</td>\n",
       "      <td>0</td>\n",
       "      <td>0</td>\n",
       "      <td>0</td>\n",
       "      <td>0</td>\n",
       "      <td>0</td>\n",
       "      <td>0</td>\n",
       "      <td>0</td>\n",
       "      <td>0</td>\n",
       "      <td>0</td>\n",
       "      <td>0</td>\n",
       "      <td>0</td>\n",
       "      <td>0</td>\n",
       "      <td>0</td>\n",
       "      <td>0</td>\n",
       "      <td>0</td>\n",
       "      <td>0</td>\n",
       "      <td>0</td>\n",
       "      <td>0</td>\n",
       "      <td>0</td>\n",
       "      <td>0</td>\n",
       "      <td>0</td>\n",
       "      <td>0</td>\n",
       "      <td>0</td>\n",
       "      <td>0</td>\n",
       "      <td>0</td>\n",
       "      <td>0</td>\n",
       "      <td>0</td>\n",
       "      <td>1</td>\n",
       "      <td>1</td>\n",
       "      <td>0</td>\n",
       "      <td>0</td>\n",
       "      <td>0</td>\n",
       "      <td>0</td>\n",
       "      <td>0</td>\n",
       "      <td>0</td>\n",
       "      <td>0</td>\n",
       "      <td>0</td>\n",
       "      <td>0</td>\n",
       "      <td>1</td>\n",
       "      <td>1.098612</td>\n",
       "      <td>7.610358</td>\n",
       "      <td>1.386294</td>\n",
       "      <td>0.233692</td>\n",
       "      <td>1.678680</td>\n",
       "      <td>0.000000</td>\n",
       "      <td>0</td>\n",
       "      <td>1</td>\n",
       "      <td>0</td>\n",
       "      <td>0.248965</td>\n",
       "      <td>0</td>\n",
       "      <td>0</td>\n",
       "      <td>0</td>\n",
       "      <td>0</td>\n",
       "      <td>0</td>\n",
       "      <td>0</td>\n",
       "      <td>0</td>\n",
       "      <td>0</td>\n",
       "    </tr>\n",
       "    <tr>\n",
       "      <th>2</th>\n",
       "      <td>12.885123</td>\n",
       "      <td>6.812345</td>\n",
       "      <td>0.693147</td>\n",
       "      <td>1.077132</td>\n",
       "      <td>0.693147</td>\n",
       "      <td>0.000000</td>\n",
       "      <td>0.000000</td>\n",
       "      <td>0</td>\n",
       "      <td>0</td>\n",
       "      <td>0</td>\n",
       "      <td>0</td>\n",
       "      <td>0</td>\n",
       "      <td>1</td>\n",
       "      <td>0</td>\n",
       "      <td>0</td>\n",
       "      <td>0</td>\n",
       "      <td>0</td>\n",
       "      <td>0</td>\n",
       "      <td>0</td>\n",
       "      <td>0</td>\n",
       "      <td>0</td>\n",
       "      <td>0</td>\n",
       "      <td>0</td>\n",
       "      <td>0</td>\n",
       "      <td>0</td>\n",
       "      <td>0</td>\n",
       "      <td>0</td>\n",
       "      <td>0</td>\n",
       "      <td>0</td>\n",
       "      <td>0</td>\n",
       "      <td>1</td>\n",
       "      <td>0</td>\n",
       "      <td>0</td>\n",
       "      <td>0</td>\n",
       "      <td>0</td>\n",
       "      <td>0</td>\n",
       "      <td>0</td>\n",
       "      <td>0</td>\n",
       "      <td>0</td>\n",
       "      <td>0</td>\n",
       "      <td>0</td>\n",
       "      <td>0</td>\n",
       "      <td>0</td>\n",
       "      <td>1</td>\n",
       "      <td>0</td>\n",
       "      <td>0</td>\n",
       "      <td>0</td>\n",
       "      <td>0</td>\n",
       "      <td>0</td>\n",
       "      <td>0</td>\n",
       "      <td>0</td>\n",
       "      <td>1</td>\n",
       "      <td>0</td>\n",
       "      <td>0</td>\n",
       "      <td>0</td>\n",
       "      <td>0</td>\n",
       "      <td>0</td>\n",
       "      <td>1</td>\n",
       "      <td>0</td>\n",
       "      <td>0</td>\n",
       "      <td>0</td>\n",
       "      <td>0</td>\n",
       "      <td>1</td>\n",
       "      <td>1900.000000</td>\n",
       "      <td>0</td>\n",
       "      <td>0</td>\n",
       "      <td>0</td>\n",
       "      <td>0</td>\n",
       "      <td>0</td>\n",
       "      <td>0</td>\n",
       "      <td>0</td>\n",
       "      <td>0</td>\n",
       "      <td>0</td>\n",
       "      <td>0</td>\n",
       "      <td>0</td>\n",
       "      <td>0</td>\n",
       "      <td>0</td>\n",
       "      <td>0</td>\n",
       "      <td>0</td>\n",
       "      <td>0</td>\n",
       "      <td>0</td>\n",
       "      <td>0</td>\n",
       "      <td>0</td>\n",
       "      <td>0</td>\n",
       "      <td>0</td>\n",
       "      <td>0</td>\n",
       "      <td>0</td>\n",
       "      <td>0</td>\n",
       "      <td>0</td>\n",
       "      <td>0</td>\n",
       "      <td>0</td>\n",
       "      <td>1</td>\n",
       "      <td>1</td>\n",
       "      <td>0</td>\n",
       "      <td>0</td>\n",
       "      <td>0</td>\n",
       "      <td>0</td>\n",
       "      <td>0</td>\n",
       "      <td>0</td>\n",
       "      <td>0</td>\n",
       "      <td>0</td>\n",
       "      <td>0</td>\n",
       "      <td>1</td>\n",
       "      <td>1.386294</td>\n",
       "      <td>7.610358</td>\n",
       "      <td>1.386294</td>\n",
       "      <td>0.233692</td>\n",
       "      <td>1.678680</td>\n",
       "      <td>0.000000</td>\n",
       "      <td>0</td>\n",
       "      <td>1</td>\n",
       "      <td>0</td>\n",
       "      <td>0.248965</td>\n",
       "      <td>0</td>\n",
       "      <td>0</td>\n",
       "      <td>0</td>\n",
       "      <td>0</td>\n",
       "      <td>0</td>\n",
       "      <td>0</td>\n",
       "      <td>0</td>\n",
       "      <td>0</td>\n",
       "    </tr>\n",
       "    <tr>\n",
       "      <th>3</th>\n",
       "      <td>13.466947</td>\n",
       "      <td>7.785305</td>\n",
       "      <td>1.252763</td>\n",
       "      <td>1.386294</td>\n",
       "      <td>0.831791</td>\n",
       "      <td>0.127162</td>\n",
       "      <td>0.192492</td>\n",
       "      <td>0</td>\n",
       "      <td>0</td>\n",
       "      <td>0</td>\n",
       "      <td>1</td>\n",
       "      <td>0</td>\n",
       "      <td>0</td>\n",
       "      <td>1</td>\n",
       "      <td>0</td>\n",
       "      <td>0</td>\n",
       "      <td>0</td>\n",
       "      <td>0</td>\n",
       "      <td>0</td>\n",
       "      <td>1</td>\n",
       "      <td>0</td>\n",
       "      <td>0</td>\n",
       "      <td>0</td>\n",
       "      <td>1</td>\n",
       "      <td>0</td>\n",
       "      <td>0</td>\n",
       "      <td>0</td>\n",
       "      <td>1</td>\n",
       "      <td>1</td>\n",
       "      <td>0</td>\n",
       "      <td>0</td>\n",
       "      <td>0</td>\n",
       "      <td>0</td>\n",
       "      <td>0</td>\n",
       "      <td>0</td>\n",
       "      <td>0</td>\n",
       "      <td>0</td>\n",
       "      <td>0</td>\n",
       "      <td>0</td>\n",
       "      <td>0</td>\n",
       "      <td>0</td>\n",
       "      <td>0</td>\n",
       "      <td>0</td>\n",
       "      <td>0</td>\n",
       "      <td>0</td>\n",
       "      <td>0</td>\n",
       "      <td>0</td>\n",
       "      <td>0</td>\n",
       "      <td>0</td>\n",
       "      <td>0</td>\n",
       "      <td>0</td>\n",
       "      <td>0</td>\n",
       "      <td>0</td>\n",
       "      <td>0</td>\n",
       "      <td>0</td>\n",
       "      <td>0</td>\n",
       "      <td>0</td>\n",
       "      <td>0</td>\n",
       "      <td>0</td>\n",
       "      <td>0</td>\n",
       "      <td>0</td>\n",
       "      <td>0</td>\n",
       "      <td>0</td>\n",
       "      <td>1900.000000</td>\n",
       "      <td>0</td>\n",
       "      <td>0</td>\n",
       "      <td>1</td>\n",
       "      <td>0</td>\n",
       "      <td>0</td>\n",
       "      <td>0</td>\n",
       "      <td>0</td>\n",
       "      <td>0</td>\n",
       "      <td>0</td>\n",
       "      <td>0</td>\n",
       "      <td>0</td>\n",
       "      <td>0</td>\n",
       "      <td>0</td>\n",
       "      <td>0</td>\n",
       "      <td>0</td>\n",
       "      <td>0</td>\n",
       "      <td>0</td>\n",
       "      <td>0</td>\n",
       "      <td>0</td>\n",
       "      <td>1</td>\n",
       "      <td>0</td>\n",
       "      <td>0</td>\n",
       "      <td>0</td>\n",
       "      <td>0</td>\n",
       "      <td>0</td>\n",
       "      <td>0</td>\n",
       "      <td>0</td>\n",
       "      <td>0</td>\n",
       "      <td>0</td>\n",
       "      <td>0</td>\n",
       "      <td>0</td>\n",
       "      <td>0</td>\n",
       "      <td>0</td>\n",
       "      <td>0</td>\n",
       "      <td>0</td>\n",
       "      <td>0</td>\n",
       "      <td>0</td>\n",
       "      <td>0</td>\n",
       "      <td>0</td>\n",
       "      <td>1.178433</td>\n",
       "      <td>7.600315</td>\n",
       "      <td>0.973287</td>\n",
       "      <td>0.000000</td>\n",
       "      <td>2.079442</td>\n",
       "      <td>0.316762</td>\n",
       "      <td>0</td>\n",
       "      <td>0</td>\n",
       "      <td>0</td>\n",
       "      <td>0.000000</td>\n",
       "      <td>0</td>\n",
       "      <td>0</td>\n",
       "      <td>1</td>\n",
       "      <td>0</td>\n",
       "      <td>0</td>\n",
       "      <td>0</td>\n",
       "      <td>0</td>\n",
       "      <td>0</td>\n",
       "    </tr>\n",
       "    <tr>\n",
       "      <th>4</th>\n",
       "      <td>10.555839</td>\n",
       "      <td>6.919180</td>\n",
       "      <td>0.987375</td>\n",
       "      <td>1.077132</td>\n",
       "      <td>0.831791</td>\n",
       "      <td>0.127162</td>\n",
       "      <td>0.192492</td>\n",
       "      <td>0</td>\n",
       "      <td>0</td>\n",
       "      <td>0</td>\n",
       "      <td>0</td>\n",
       "      <td>1</td>\n",
       "      <td>1</td>\n",
       "      <td>0</td>\n",
       "      <td>0</td>\n",
       "      <td>0</td>\n",
       "      <td>0</td>\n",
       "      <td>0</td>\n",
       "      <td>0</td>\n",
       "      <td>0</td>\n",
       "      <td>0</td>\n",
       "      <td>0</td>\n",
       "      <td>0</td>\n",
       "      <td>0</td>\n",
       "      <td>0</td>\n",
       "      <td>0</td>\n",
       "      <td>0</td>\n",
       "      <td>0</td>\n",
       "      <td>0</td>\n",
       "      <td>0</td>\n",
       "      <td>0</td>\n",
       "      <td>0</td>\n",
       "      <td>0</td>\n",
       "      <td>0</td>\n",
       "      <td>0</td>\n",
       "      <td>0</td>\n",
       "      <td>0</td>\n",
       "      <td>0</td>\n",
       "      <td>0</td>\n",
       "      <td>0</td>\n",
       "      <td>0</td>\n",
       "      <td>0</td>\n",
       "      <td>0</td>\n",
       "      <td>0</td>\n",
       "      <td>0</td>\n",
       "      <td>0</td>\n",
       "      <td>0</td>\n",
       "      <td>0</td>\n",
       "      <td>0</td>\n",
       "      <td>0</td>\n",
       "      <td>0</td>\n",
       "      <td>0</td>\n",
       "      <td>0</td>\n",
       "      <td>0</td>\n",
       "      <td>0</td>\n",
       "      <td>0</td>\n",
       "      <td>0</td>\n",
       "      <td>0</td>\n",
       "      <td>0</td>\n",
       "      <td>0</td>\n",
       "      <td>0</td>\n",
       "      <td>0</td>\n",
       "      <td>0</td>\n",
       "      <td>1928.356218</td>\n",
       "      <td>0</td>\n",
       "      <td>0</td>\n",
       "      <td>0</td>\n",
       "      <td>0</td>\n",
       "      <td>0</td>\n",
       "      <td>0</td>\n",
       "      <td>0</td>\n",
       "      <td>0</td>\n",
       "      <td>0</td>\n",
       "      <td>0</td>\n",
       "      <td>0</td>\n",
       "      <td>0</td>\n",
       "      <td>0</td>\n",
       "      <td>0</td>\n",
       "      <td>0</td>\n",
       "      <td>0</td>\n",
       "      <td>0</td>\n",
       "      <td>0</td>\n",
       "      <td>0</td>\n",
       "      <td>0</td>\n",
       "      <td>0</td>\n",
       "      <td>0</td>\n",
       "      <td>0</td>\n",
       "      <td>0</td>\n",
       "      <td>0</td>\n",
       "      <td>0</td>\n",
       "      <td>0</td>\n",
       "      <td>0</td>\n",
       "      <td>0</td>\n",
       "      <td>0</td>\n",
       "      <td>0</td>\n",
       "      <td>0</td>\n",
       "      <td>0</td>\n",
       "      <td>0</td>\n",
       "      <td>0</td>\n",
       "      <td>0</td>\n",
       "      <td>0</td>\n",
       "      <td>0</td>\n",
       "      <td>0</td>\n",
       "      <td>1.178433</td>\n",
       "      <td>7.600315</td>\n",
       "      <td>0.973287</td>\n",
       "      <td>0.233692</td>\n",
       "      <td>1.678680</td>\n",
       "      <td>0.316762</td>\n",
       "      <td>0</td>\n",
       "      <td>0</td>\n",
       "      <td>0</td>\n",
       "      <td>0.248965</td>\n",
       "      <td>0</td>\n",
       "      <td>0</td>\n",
       "      <td>0</td>\n",
       "      <td>0</td>\n",
       "      <td>0</td>\n",
       "      <td>0</td>\n",
       "      <td>0</td>\n",
       "      <td>0</td>\n",
       "    </tr>\n",
       "  </tbody>\n",
       "</table>"
      ],
      "text/plain": [
       "<IPython.core.display.HTML object>"
      ]
     },
     "metadata": {},
     "output_type": "display_data"
    }
   ],
   "source": [
    "df = data\n",
    "print(df.columns)\n",
    "display(HTML(df.head().to_html()))\n"
   ]
  },
  {
   "cell_type": "code",
   "execution_count": 9,
   "metadata": {},
   "outputs": [
    {
     "name": "stdout",
     "output_type": "stream",
     "text": [
      "(161296, 121)\n",
      "(161296, 120)\n",
      "(161296,)\n"
     ]
    }
   ],
   "source": [
    "x = data.loc[:,data.columns != 'AV_TOTAL']\n",
    "y = data['AV_TOTAL']\n",
    "print(data.shape)\n",
    "print(x.shape)\n",
    "print(y.shape)"
   ]
  },
  {
   "cell_type": "markdown",
   "metadata": {},
   "source": [
    "## Section I: Model fitting using random data split"
   ]
  },
  {
   "cell_type": "code",
   "execution_count": 10,
   "metadata": {},
   "outputs": [],
   "source": [
    "#Split data for model training\n",
    "fSplit = 0.1\n",
    "X_train, X_test, y_train, y_test = train_test_split(x, y, test_size=fSplit, random_state=6)\n",
    "\n",
    "#prepared for training model using split"
   ]
  },
  {
   "cell_type": "code",
   "execution_count": 11,
   "metadata": {},
   "outputs": [],
   "source": [
    "from sklearn.metrics import r2_score\n",
    "from sklearn.metrics import mean_squared_error\n",
    "from sklearn.metrics import mean_absolute_error"
   ]
  },
  {
   "cell_type": "code",
   "execution_count": 12,
   "metadata": {},
   "outputs": [],
   "source": [
    "# Run this after model training, using estimator, it can calculated multiple scores for test data\n",
    "def CalcScore(est):\n",
    "    y1_test = est.predict(X_test)\n",
    "    # Three scores are calculated below\n",
    "    R2 = r2_score(y_test, y1_test)\n",
    "    print('R2 score: ', R2)\n",
    "    mae = mean_absolute_error(y_test, y1_test)\n",
    "    print('MAE score: ', mae)\n",
    "    mse = mean_squared_error(y_test, y1_test)\n",
    "    print('MSE score: ', mse)"
   ]
  },
  {
   "cell_type": "code",
   "execution_count": 13,
   "metadata": {},
   "outputs": [
    {
     "name": "stdout",
     "output_type": "stream",
     "text": [
      "Training RandomForestRegressor...\n",
      "Fit done in 23.1582s\n",
      "Test R2 score: 0.7829\n",
      "R2 score:  0.782929345200354\n",
      "MAE score:  0.28070515731983947\n",
      "MSE score:  0.23216861127786256\n"
     ]
    }
   ],
   "source": [
    "# Model 1: RF\n",
    "print(\"Training RandomForestRegressor...\")\n",
    "ticS = time()\n",
    "est = RandomForestRegressor(random_state=1, n_estimators=10)\n",
    "est.fit(X_train, y_train)\n",
    "ticE = time()\n",
    "print(\"Fit done in {:.4f}s\".format(ticE - ticS))\n",
    "print(\"Test R2 score: {:.4f}\".format(est.score(X_test, y_test)))\n",
    "CalcScore(est)"
   ]
  },
  {
   "cell_type": "code",
   "execution_count": 14,
   "metadata": {},
   "outputs": [
    {
     "name": "stdout",
     "output_type": "stream",
     "text": [
      "Training AdaBoostRegressorDT...\n",
      "Fit done in 17.7879s\n",
      "Test R2 score: 0.6598\n",
      "R2 score:  0.6598299234249007\n",
      "MAE score:  0.417057034081918\n",
      "MSE score:  0.3638299905144699\n"
     ]
    }
   ],
   "source": [
    "# Model 2: AB-DT\n",
    "print(\"Training AdaBoostRegressorDT...\")\n",
    "ticS = time()\n",
    "est = AdaBoostRegressor(DecisionTreeRegressor(max_depth=4), random_state=1, n_estimators=300)\n",
    "est.fit(X_train, y_train)\n",
    "ticE = time()\n",
    "print(\"Fit done in {:.4f}s\".format(ticE - ticS))\n",
    "print(\"Test R2 score: {:.4f}\".format(est.score(X_test, y_test)))\n",
    "CalcScore(est)"
   ]
  },
  {
   "cell_type": "code",
   "execution_count": 15,
   "metadata": {},
   "outputs": [
    {
     "name": "stdout",
     "output_type": "stream",
     "text": [
      "Training AdaBoostRegressorRF...\n",
      "Fit done in 170.8342s\n",
      "Test R2 score: 0.7673\n",
      "R2 score:  0.7673424524688266\n",
      "MAE score:  0.2877389331903968\n",
      "MSE score:  0.24883962211972802\n"
     ]
    }
   ],
   "source": [
    "# Model 3: AB-RF\n",
    "print(\"Training AdaBoostRegressorRF...\")\n",
    "ticS = time()\n",
    "est = AdaBoostRegressor(RandomForestRegressor(random_state=1, n_estimators=10), random_state=1, n_estimators=300)\n",
    "est.fit(X_train, y_train)\n",
    "ticE = time()\n",
    "print(\"Fit done in {:.4f}s\".format(ticE - ticS))\n",
    "print(\"Test R2 score: {:.4f}\".format(est.score(X_test, y_test)))\n",
    "CalcScore(est)"
   ]
  },
  {
   "cell_type": "code",
   "execution_count": 16,
   "metadata": {},
   "outputs": [
    {
     "name": "stdout",
     "output_type": "stream",
     "text": [
      "Training ExtraTreesRegressor...\n",
      "Fit done in 299.2137s\n",
      "Test R2 score: 0.7864\n",
      "R2 score:  0.7864371124950995\n",
      "MAE score:  0.2725184326318499\n",
      "MSE score:  0.22841686757828858\n"
     ]
    }
   ],
   "source": [
    "# Model 4: ET\n",
    "print(\"Training ExtraTreesRegressor...\")\n",
    "ticS = time()\n",
    "est = ExtraTreesRegressor(n_estimators=100, random_state=0)\n",
    "est.fit(X_train, y_train)\n",
    "ticE = time()\n",
    "print(\"Fit done in {:.4f}s\".format(ticE - ticS))\n",
    "print(\"Test R2 score: {:.4f}\".format(est.score(X_test, y_test)))\n",
    "CalcScore(est)"
   ]
  },
  {
   "cell_type": "code",
   "execution_count": 17,
   "metadata": {},
   "outputs": [
    {
     "name": "stdout",
     "output_type": "stream",
     "text": [
      "Training HistGradientBoostingRegressor...\n",
      "Fit done in 12.5793s\n",
      "Test R2 score: 0.7724\n",
      "R2 score:  0.7724205530726321\n",
      "MAE score:  0.30585441551863923\n",
      "MSE score:  0.24340832342021929\n"
     ]
    }
   ],
   "source": [
    "# Model 5: HGB\n",
    "print(\"Training HistGradientBoostingRegressor...\")\n",
    "ticS = time()\n",
    "est = HistGradientBoostingRegressor()\n",
    "est.fit(X_train, y_train)\n",
    "ticE = time()\n",
    "print(\"Fit done in {:.4f}s\".format(ticE - ticS))\n",
    "print(\"Test R2 score: {:.4f}\".format(est.score(X_test, y_test)))\n",
    "CalcScore(est)"
   ]
  },
  {
   "cell_type": "code",
   "execution_count": 18,
   "metadata": {},
   "outputs": [
    {
     "name": "stdout",
     "output_type": "stream",
     "text": [
      "Training GradientBoostingRegressor...\n",
      "Fit done in 40.2743s\n",
      "Test R2 score: 0.6818\n",
      "R2 score:  0.6818117067987994\n",
      "MAE score:  0.38841916366021606\n",
      "MSE score:  0.34031930398689964\n"
     ]
    }
   ],
   "source": [
    "# Model 6: GB\n",
    "print(\"Training GradientBoostingRegressor...\")\n",
    "ticS = time()\n",
    "est = GradientBoostingRegressor(alpha=0.9, learning_rate=0.05, max_depth=2, min_samples_leaf=9, min_samples_split=2, n_estimators=100, random_state=30)\n",
    "est.fit(X_train, y_train)\n",
    "ticE = time()\n",
    "print(\"Fit done in {:.4f}s\".format(ticE - ticS))\n",
    "print(\"Test R2 score: {:.4f}\".format(est.score(X_test, y_test)))\n",
    "CalcScore(est)"
   ]
  },
  {
   "cell_type": "code",
   "execution_count": 19,
   "metadata": {},
   "outputs": [
    {
     "name": "stdout",
     "output_type": "stream",
     "text": [
      "Training XGBoostRegressor...\n",
      "Fit done in 31.4549s\n",
      "Test R2 score: 0.7809\n",
      "R2 score:  0.7808783253795641\n",
      "MAE score:  0.29637351149900465\n",
      "MSE score:  0.2343622860697669\n"
     ]
    }
   ],
   "source": [
    "# Model 7: XGB\n",
    "print(\"Training XGBoostRegressor...\")\n",
    "ticS = time()\n",
    "est = XGBRegressor(objective='reg:squarederror')\n",
    "est.fit(X_train, y_train)\n",
    "ticE = time()\n",
    "print(\"Fit done in {:.4f}s\".format(ticE - ticS))\n",
    "print(\"Test R2 score: {:.4f}\".format(est.score(X_test, y_test)))\n",
    "CalcScore(est)"
   ]
  },
  {
   "cell_type": "code",
   "execution_count": 20,
   "metadata": {},
   "outputs": [
    {
     "name": "stdout",
     "output_type": "stream",
     "text": [
      "Training LightGBMRegressor...\n",
      "[LightGBM] [Warning] Find whitespaces in feature_names, replace with underlines\n",
      "[LightGBM] [Warning] Auto-choosing row-wise multi-threading, the overhead of testing was 0.025826 seconds.\n",
      "You can set `force_row_wise=true` to remove the overhead.\n",
      "And if memory is not enough, you can set `force_col_wise=true`.\n",
      "Fit done in 2.0715s\n",
      "Test R2 score: 0.7733\n",
      "R2 score:  0.7733216262463665\n",
      "MAE score:  0.30528970180426895\n",
      "MSE score:  0.24244457773290506\n"
     ]
    }
   ],
   "source": [
    "# Model 8: LGBM\n",
    "print(\"Training LightGBMRegressor...\")\n",
    "ticS = time()\n",
    "est = LGBMRegressor(verbose=0, n_estimators=100)\n",
    "est.fit(X_train, y_train)\n",
    "ticE = time()\n",
    "print(\"Fit done in {:.4f}s\".format(ticE - ticS))\n",
    "print(\"Test R2 score: {:.4f}\".format(est.score(X_test, y_test)))\n",
    "CalcScore(est)"
   ]
  },
  {
   "cell_type": "code",
   "execution_count": 21,
   "metadata": {},
   "outputs": [
    {
     "name": "stdout",
     "output_type": "stream",
     "text": [
      "Training CatBoostRegressor...\n",
      "Fit done in 3.2205s\n",
      "Test R2 score: 0.7762\n",
      "R2 score:  0.7762041757938626\n",
      "MAE score:  0.3034408602591301\n",
      "MSE score:  0.23936153766929302\n"
     ]
    }
   ],
   "source": [
    "# Model 9: CB\n",
    "print(\"Training CatBoostRegressor...\")\n",
    "ticS = time()\n",
    "est = CatBoostRegressor(verbose=0, n_estimators=100)\n",
    "est.fit(X_train, y_train)\n",
    "ticE = time()\n",
    "print(\"Fit done in {:.4f}s\".format(ticE - ticS))\n",
    "print(\"Test R2 score: {:.4f}\".format(est.score(X_test, y_test)))\n",
    "CalcScore(est)"
   ]
  },
  {
   "cell_type": "markdown",
   "metadata": {
    "_uuid": "f10db586d1b7f15a5eeb441de373210790c41729"
   },
   "source": [
    "## Section II: Model evaluation using cross validation method"
   ]
  },
  {
   "cell_type": "code",
   "execution_count": 22,
   "metadata": {},
   "outputs": [],
   "source": [
    "# Collect results in the following map\n",
    "scores_map = {}\n",
    "scores_map_emsemble = {}"
   ]
  },
  {
   "cell_type": "code",
   "execution_count": 23,
   "metadata": {},
   "outputs": [],
   "source": [
    "from sklearn import preprocessing\n",
    "min_max_scaler = preprocessing.MinMaxScaler()\n",
    "x_scaled = min_max_scaler.fit_transform(x)"
   ]
  },
  {
   "cell_type": "code",
   "execution_count": 24,
   "metadata": {},
   "outputs": [],
   "source": [
    "from sklearn.model_selection import cross_val_score\n",
    "from sklearn.model_selection import KFold"
   ]
  },
  {
   "cell_type": "code",
   "execution_count": 25,
   "metadata": {},
   "outputs": [],
   "source": [
    "nSplits = 10\n",
    "kf = KFold(n_splits=nSplits)"
   ]
  },
  {
   "cell_type": "code",
   "execution_count": 26,
   "metadata": {},
   "outputs": [],
   "source": [
    "# This one is used for cross validation scoring\n",
    "customScoring = 'neg_mean_squared_error'\n",
    "scoreStr = 'MSE'"
   ]
  },
  {
   "cell_type": "code",
   "execution_count": 27,
   "metadata": {},
   "outputs": [],
   "source": [
    "# After run this cell we changed the scoring method for crossvalidation\n",
    "#customScoring = 'neg_mean_absolute_error'\n",
    "#scoreStr = 'MAE'"
   ]
  },
  {
   "cell_type": "code",
   "execution_count": 28,
   "metadata": {},
   "outputs": [
    {
     "name": "stdout",
     "output_type": "stream",
     "text": [
      "Split:  10\n",
      "Custom scoring type:  MSE\n"
     ]
    }
   ],
   "source": [
    "print('Split: ', nSplits)\n",
    "print('Custom scoring type: ', scoreStr)"
   ]
  },
  {
   "cell_type": "code",
   "execution_count": 29,
   "metadata": {},
   "outputs": [
    {
     "name": "stdout",
     "output_type": "stream",
     "text": [
      "{}\n"
     ]
    }
   ],
   "source": [
    "print(scores_map)"
   ]
  },
  {
   "cell_type": "code",
   "execution_count": 30,
   "metadata": {},
   "outputs": [
    {
     "name": "stdout",
     "output_type": "stream",
     "text": [
      "{}\n"
     ]
    }
   ],
   "source": [
    "print(scores_map_emsemble)"
   ]
  },
  {
   "cell_type": "code",
   "execution_count": 31,
   "metadata": {
    "_cell_guid": "650b9702-13cb-4364-b12f-f996fa013da4",
    "_uuid": "2adbfea5a7d8b2262e71a6f2e9eed2187ce2576b"
   },
   "outputs": [
    {
     "name": "stdout",
     "output_type": "stream",
     "text": [
      "Training DecisionTreeRegressor...\n",
      "DecisionTreeRegressor CV done in 16.9377s\n",
      "MSE: -0.4050 (+/- 0.1440)\n"
     ]
    }
   ],
   "source": [
    "# This algorithm is only used as a reference, it is generally much faster than ensemble algorithms, but the performance isn't great\n",
    "algoName = 'DecisionTreeRegressor'\n",
    "print(\"Training %s...\" % algoName)\n",
    "ticS = time()\n",
    "\n",
    "desc_tr = DecisionTreeRegressor(max_depth=5)\n",
    "scores = cross_val_score(desc_tr, x_scaled, y, cv=kf, scoring=customScoring)\n",
    "\n",
    "ticE = time()\n",
    "scores_map[algoName] = scores\n",
    "#scores_map_emsemble[algName] = scores\n",
    "print(\"{} CV done in {:.4f}s\".format(algoName, ticE - ticS))\n",
    "print(\"%s: %0.4f (+/- %0.4f)\" % (scoreStr, scores.mean(), scores.std()))"
   ]
  },
  {
   "cell_type": "code",
   "execution_count": 32,
   "metadata": {},
   "outputs": [
    {
     "name": "stdout",
     "output_type": "stream",
     "text": [
      "Training RandomForestRegressor...\n",
      "RandomForestRegressor CV done in 243.2209s\n",
      "MSE: -0.3038 (+/- 0.0796)\n"
     ]
    }
   ],
   "source": [
    "# Model 1: RF\n",
    "algoName = 'RandomForestRegressor'\n",
    "print(\"Training %s...\" % algoName)\n",
    "ticS = time()\n",
    "\n",
    "desc_rf = RandomForestRegressor(random_state=1, n_estimators=10)\n",
    "scores = cross_val_score(desc_rf, x_scaled, y, cv=kf, scoring=customScoring)\n",
    "\n",
    "ticE = time()\n",
    "scores_map[algoName] = scores\n",
    "scores_map_emsemble[algoName] = scores\n",
    "print(\"{} CV done in {:.4f}s\".format(algoName, ticE - ticS))\n",
    "print(\"%s: %0.4f (+/- %0.4f)\" % (scoreStr, scores.mean(), scores.std()))"
   ]
  },
  {
   "cell_type": "code",
   "execution_count": 33,
   "metadata": {},
   "outputs": [
    {
     "name": "stdout",
     "output_type": "stream",
     "text": [
      "Training AdaBoostRegressorDT...\n",
      "AdaBoostRegressorDT CV done in 197.0305s\n",
      "MSE: -0.3948 (+/- 0.1588)\n"
     ]
    }
   ],
   "source": [
    "# Model 2: AB-DT\n",
    "algoName = 'AdaBoostRegressorDT'\n",
    "print(\"Training %s...\" % algoName)\n",
    "ticS = time()\n",
    "\n",
    "desc_ab = AdaBoostRegressor(DecisionTreeRegressor(max_depth=4), random_state=1, n_estimators=300)\n",
    "\n",
    "scores = cross_val_score(desc_ab, x_scaled, y, cv=kf, scoring=customScoring)\n",
    "ticE = time()\n",
    "scores_map[algoName] = scores\n",
    "scores_map_emsemble[algoName] = scores\n",
    "print(\"{} CV done in {:.4f}s\".format(algoName, ticE - ticS))\n",
    "print(\"%s: %0.4f (+/- %0.4f)\" % (scoreStr, scores.mean(), scores.std()))\n",
    "#rf as slow as 75.678s\n",
    "#tr is faster as 5.188s, 6.056s"
   ]
  },
  {
   "cell_type": "code",
   "execution_count": 34,
   "metadata": {},
   "outputs": [
    {
     "name": "stdout",
     "output_type": "stream",
     "text": [
      "Training AdaBoostRegressorRF...\n",
      "AdaBoostRegressorRF CV done in 1933.4407s\n",
      "MSE: -0.3099 (+/- 0.0835)\n"
     ]
    }
   ],
   "source": [
    "# Model 3: AB-RF\n",
    "algoName = 'AdaBoostRegressorRF'\n",
    "print(\"Training %s...\" % algoName)\n",
    "ticS = time()\n",
    "desc_ab = AdaBoostRegressor(RandomForestRegressor(random_state=1, n_estimators=10), random_state=1, n_estimators=300)\n",
    "\n",
    "scores = cross_val_score(desc_ab, x_scaled, y, cv=kf, scoring=customScoring)\n",
    "ticE = time()\n",
    "scores_map[algoName] = scores\n",
    "scores_map_emsemble[algoName] = scores\n",
    "print(\"{} CV done in {:.4f}s\".format(algoName, ticE - ticS))\n",
    "print(\"%s: %0.4f (+/- %0.4f)\" % (scoreStr, scores.mean(), scores.std()))\n",
    "#rf as slow as 75.678s"
   ]
  },
  {
   "cell_type": "code",
   "execution_count": 35,
   "metadata": {},
   "outputs": [
    {
     "name": "stdout",
     "output_type": "stream",
     "text": [
      "Training ExtraTreesRegressor...\n",
      "ExtraTreesRegressor CV done in 4692.0582s\n",
      "MSE: -0.2980 (+/- 0.0792)\n"
     ]
    }
   ],
   "source": [
    "# Model 4: ET\n",
    "algoName = 'ExtraTreesRegressor'\n",
    "print(\"Training %s...\" % algoName)\n",
    "ticS = time()\n",
    "\n",
    "desc_tr = ExtraTreesRegressor(n_estimators=100, random_state=0)\n",
    "scores = cross_val_score(desc_tr, x_scaled, y, cv=kf, scoring=customScoring)\n",
    "\n",
    "ticE = time()\n",
    "scores_map[algoName] = scores\n",
    "scores_map_emsemble[algoName] = scores\n",
    "print(\"{} CV done in {:.4f}s\".format(algoName, ticE - ticS))\n",
    "print(\"%s: %0.4f (+/- %0.4f)\" % (scoreStr, scores.mean(), scores.std()))"
   ]
  },
  {
   "cell_type": "code",
   "execution_count": 36,
   "metadata": {},
   "outputs": [
    {
     "name": "stdout",
     "output_type": "stream",
     "text": [
      "Training HistGradientBoostingRegressor...\n",
      "HistGradientBoostingRegressor CV done in 116.3475s\n",
      "MSE: -0.2848 (+/- 0.0811)\n"
     ]
    }
   ],
   "source": [
    "# Model 5: HGB\n",
    "algoName = 'HistGradientBoostingRegressor'\n",
    "print(\"Training %s...\" % algoName)\n",
    "ticS = time()\n",
    "\n",
    "hgbr = HistGradientBoostingRegressor()\n",
    "\n",
    "scores = cross_val_score(hgbr, x_scaled, y, cv=kf, scoring=customScoring)\n",
    "scores_map[algoName] = scores\n",
    "scores_map_emsemble[algoName] = scores\n",
    "ticE = time()\n",
    "print(\"{} CV done in {:.4f}s\".format(algoName, ticE - ticS))\n",
    "print(\"%s: %0.4f (+/- %0.4f)\" % (scoreStr, scores.mean(), scores.std()))\n",
    "\n",
    "#Training HistGradientBoostingRegressor...\n",
    "#HistGradientBoostingRegressor CV done in 167.7863s\n",
    "#MSE: -0.2880 (+/- 0.0687)"
   ]
  },
  {
   "cell_type": "code",
   "execution_count": 37,
   "metadata": {},
   "outputs": [
    {
     "name": "stdout",
     "output_type": "stream",
     "text": [
      "Search best GradientBoostingRegressor...\n",
      "Don't run this now as it take very long time. \n"
     ]
    }
   ],
   "source": [
    "# Model 6: GB\n",
    "# Part 1 - This cell is searching the best parameter for GradientBoostingRegressor \n",
    "from sklearn.model_selection import GridSearchCV\n",
    "\n",
    "print(\"Search best GradientBoostingRegressor...\")\n",
    "tic = time()\n",
    "gbr = GradientBoostingRegressor(alpha=0.9,learning_rate=0.05, max_depth=2, min_samples_leaf=5, min_samples_split=2, n_estimators=100, random_state=30)\n",
    "param_grid={'n_estimators':[100, 200], 'learning_rate': [0.1,0.05,0.02], 'max_depth':[2, 4,6], 'min_samples_leaf':[3,5,9]}\n",
    "#grid_sv = GridSearchCV(gbr, cv=kf, param_grid=param_grid, scoring=customScoring)\n",
    "#grid_sv.fit(x_scaled, y)\n",
    "#print(\"done in {:.3f}s\".format(time() - tic))\n",
    "#print(\"Best classifier :\", grid_sv.best_estimator_)\n",
    "\n",
    "#scores = cross_val_score(gbr, x_scaled, y, cv=kf, scoring='neg_mean_squared_error')\n",
    "#scores_map['GradientBoostingRegressor'] = scores\n",
    "#scores_map_emsemble['GradientBoostingRegressor'] = scores\n",
    "#print(\"MSE: %0.2f (+/- %0.2f)\" % (scores.mean(), scores.std()))\n",
    "print(\"Don't run this now as it take very long time. \")"
   ]
  },
  {
   "cell_type": "code",
   "execution_count": 38,
   "metadata": {},
   "outputs": [
    {
     "name": "stdout",
     "output_type": "stream",
     "text": [
      "Training GradientBoostingRegressor...\n",
      "GradientBoostingRegressor CV done in 709.6377s\n",
      "MSE: -0.3729 (+/- 0.1352)\n"
     ]
    }
   ],
   "source": [
    "# Model 6: GB\n",
    "# Part 2 - Best max param\n",
    "algoName = 'GradientBoostingRegressor'\n",
    "print(\"Training %s...\" % algoName)\n",
    "ticS = time()\n",
    "\n",
    "gbr = GradientBoostingRegressor(alpha=0.9,learning_rate=0.05, max_depth=2, min_samples_leaf=9, min_samples_split=2, n_estimators=100, random_state=30)\n",
    "scores = cross_val_score(gbr, x_scaled, y, cv=kf, scoring=customScoring)\n",
    "ticE = time()\n",
    "scores_map[algoName] = scores\n",
    "scores_map_emsemble[algoName] = scores\n",
    "print(\"{} CV done in {:.4f}s\".format(algoName, ticE - ticS))\n",
    "print(\"%s: %0.4f (+/- %0.4f)\" % (scoreStr, scores.mean(), scores.std()))"
   ]
  },
  {
   "cell_type": "code",
   "execution_count": 39,
   "metadata": {},
   "outputs": [
    {
     "name": "stdout",
     "output_type": "stream",
     "text": [
      "Training XGBoostRegressor...\n",
      "XGBoostRegressor CV done in 301.3270s\n",
      "MSE: -0.2831 (+/- 0.0775)\n"
     ]
    }
   ],
   "source": [
    "# Model 7: XGB\n",
    "algoName = 'XGBoostRegressor'\n",
    "print(\"Training %s...\" % algoName)\n",
    "ticS = time()\n",
    "\n",
    "xgbr = XGBRegressor(objective='reg:squarederror')\n",
    "scores = cross_val_score(xgbr, x_scaled, y, cv=kf, scoring=customScoring)\n",
    "ticE = time()\n",
    "scores_map[algoName] = scores\n",
    "scores_map_emsemble[algoName] = scores\n",
    "print(\"{} CV done in {:.4f}s\".format(algoName, ticE - ticS))\n",
    "print(\"%s: %0.4f (+/- %0.4f)\" % (scoreStr, scores.mean(), scores.std()))\n"
   ]
  },
  {
   "cell_type": "code",
   "execution_count": 40,
   "metadata": {},
   "outputs": [
    {
     "name": "stdout",
     "output_type": "stream",
     "text": [
      "Training LightGBMRegressor...\n",
      "LightGBMRegressor CV done in 19.2825s\n",
      "MSE: -0.2846 (+/- 0.0812)\n"
     ]
    }
   ],
   "source": [
    "# Model 8: LGBM\n",
    "algoName = 'LightGBMRegressor'\n",
    "print(\"Training %s...\" % algoName)\n",
    "ticS = time()\n",
    "\n",
    "lgbmr = LGBMRegressor(verbose=0, n_estimators=100, force_row_wise=True)\n",
    "scores = cross_val_score(lgbmr, x_scaled, y, cv=kf, scoring=customScoring)\n",
    "ticE = time()\n",
    "scores_map[algoName] = scores\n",
    "scores_map_emsemble[algoName] = scores\n",
    "print(\"{} CV done in {:.4f}s\".format(algoName, ticE - ticS))\n",
    "print(\"%s: %0.4f (+/- %0.4f)\" % (scoreStr, scores.mean(), scores.std()))\n",
    "\n",
    "#Training LightGBMRegressor...\n",
    "#LightGBMRegressor CV done in 22.6435s\n",
    "#MSE: -0.2875 (+/- 0.0684)"
   ]
  },
  {
   "cell_type": "code",
   "execution_count": 41,
   "metadata": {},
   "outputs": [
    {
     "name": "stdout",
     "output_type": "stream",
     "text": [
      "Training CatBoostRegressor...\n",
      "CatBoostRegressor CV done in 63.3304s\n",
      "MSE: -0.2836 (+/- 0.0801)\n"
     ]
    }
   ],
   "source": [
    "# Model 9: CB\n",
    "algoName = 'CatBoostRegressor'\n",
    "print(\"Training %s...\" % algoName)\n",
    "ticS = time()\n",
    "\n",
    "cbr = CatBoostRegressor(verbose=0, n_estimators=100)\n",
    "scores = cross_val_score(cbr, x_scaled, y, cv=kf, scoring=customScoring)\n",
    "ticE = time()\n",
    "scores_map[algoName] = scores\n",
    "scores_map_emsemble[algoName] = scores\n",
    "print(\"{} CV done in {:.4f}s\".format(algoName, ticE - ticS))\n",
    "print(\"%s: %0.4f (+/- %0.4f)\" % (scoreStr, scores.mean(), scores.std()))\n",
    "\n",
    "#Training CatBoostRegressor...\n",
    "#CatBoostRegressor CV done in 74.9145s\n",
    "#MSE: -0.2875 (+/- 0.0664)"
   ]
  },
  {
   "cell_type": "code",
   "execution_count": 43,
   "metadata": {},
   "outputs": [
    {
     "name": "stdout",
     "output_type": "stream",
     "text": [
      "{'RandomForestRegressor': array([-0.27626975, -0.3631044 , -0.42583808, -0.31219717, -0.4147229 ,\n",
      "       -0.358231  , -0.21816253, -0.22323715, -0.19117154, -0.25553442]), 'AdaBoostRegressorDT': array([-0.29889808, -0.48571736, -0.75257878, -0.29740731, -0.53262016,\n",
      "       -0.49240068, -0.33692205, -0.29319604, -0.23842371, -0.21972011]), 'AdaBoostRegressorRF': array([-0.26768298, -0.32152479, -0.39550677, -0.28584826, -0.47221651,\n",
      "       -0.41273783, -0.25994904, -0.23583839, -0.21530269, -0.23204116]), 'ExtraTreesRegressor': array([-0.27434083, -0.35803785, -0.41570255, -0.29977555, -0.41101723,\n",
      "       -0.3558726 , -0.21594556, -0.21908029, -0.18452218, -0.24530803]), 'HistGradientBoostingRegressor': array([-0.2524449 , -0.34501583, -0.40985378, -0.28531524, -0.39940781,\n",
      "       -0.34735946, -0.20473764, -0.20661532, -0.17673645, -0.22035528]), 'GradientBoostingRegressor': array([-0.28078024, -0.4481425 , -0.66840403, -0.29995732, -0.5187536 ,\n",
      "       -0.45182827, -0.2948969 , -0.27930169, -0.24480077, -0.24203526]), 'XGBoostRegressor': array([-0.25816275, -0.33950159, -0.39735251, -0.28860369, -0.3978491 ,\n",
      "       -0.33829452, -0.20278316, -0.20555921, -0.17644153, -0.22693574]), 'LightGBMRegressor': array([-0.25214793, -0.34388798, -0.41221659, -0.28535254, -0.39775094,\n",
      "       -0.34708764, -0.20384939, -0.20690584, -0.17791032, -0.2185098 ]), 'CatBoostRegressor': array([-0.25497952, -0.34793309, -0.3999804 , -0.2871693 , -0.40012362,\n",
      "       -0.3434795 , -0.20369376, -0.20353041, -0.17615861, -0.21939716])}\n"
     ]
    }
   ],
   "source": [
    "print(scores_map_emsemble)"
   ]
  },
  {
   "cell_type": "code",
   "execution_count": 45,
   "metadata": {},
   "outputs": [
    {
     "data": {
      "text/plain": [
       "<matplotlib.axes._subplots.AxesSubplot at 0x25f8ce3ad68>"
      ]
     },
     "execution_count": 45,
     "metadata": {},
     "output_type": "execute_result"
    },
    {
     "data": {
      "image/png": "[encoded data removed]",
      "text/plain": [
       "<Figure size 1440x720 with 1 Axes>"
      ]
     },
     "metadata": {
      "needs_background": "light"
     },
     "output_type": "display_data"
    }
   ],
   "source": [
    "import seaborn as sns\n",
    "plt.figure(figsize=(20, 10))\n",
    "scores_map_emsemble = pd.DataFrame(scores_map_emsemble)\n",
    "sns.boxplot(data=scores_map_emsemble)"
   ]
  },
  {
   "cell_type": "code",
   "execution_count": 50,
   "metadata": {},
   "outputs": [
    {
     "data": {
      "text/html": [
       "<div>\n",
       "<style scoped>\n",
       "    .dataframe tbody tr th:only-of-type {\n",
       "        vertical-align: middle;\n",
       "    }\n",
       "\n",
       "    .dataframe tbody tr th {\n",
       "        vertical-align: top;\n",
       "    }\n",
       "\n",
       "    .dataframe thead th {\n",
       "        text-align: right;\n",
       "    }\n",
       "</style>\n",
       "<table border=\"1\" class=\"dataframe\">\n",
       "  <thead>\n",
       "    <tr style=\"text-align: right;\">\n",
       "      <th></th>\n",
       "      <th>DecisionTreeRegressor</th>\n",
       "      <th>RandomForestRegressor</th>\n",
       "      <th>AdaBoostRegressorDT</th>\n",
       "      <th>AdaBoostRegressorRF</th>\n",
       "      <th>ExtraTreesRegressor</th>\n",
       "      <th>HistGradientBoostingRegressor</th>\n",
       "      <th>GradientBoostingRegressor</th>\n",
       "      <th>XGBoostRegressor</th>\n",
       "      <th>LightGBMRegressor</th>\n",
       "      <th>CatBoostRegressor</th>\n",
       "    </tr>\n",
       "  </thead>\n",
       "  <tbody>\n",
       "    <tr>\n",
       "      <th>0</th>\n",
       "      <td>-0.315035</td>\n",
       "      <td>-0.276270</td>\n",
       "      <td>-0.298898</td>\n",
       "      <td>-0.267683</td>\n",
       "      <td>-0.274341</td>\n",
       "      <td>-0.252445</td>\n",
       "      <td>-0.280780</td>\n",
       "      <td>-0.258163</td>\n",
       "      <td>-0.252148</td>\n",
       "      <td>-0.254980</td>\n",
       "    </tr>\n",
       "    <tr>\n",
       "      <th>1</th>\n",
       "      <td>-0.483030</td>\n",
       "      <td>-0.363104</td>\n",
       "      <td>-0.485717</td>\n",
       "      <td>-0.321525</td>\n",
       "      <td>-0.358038</td>\n",
       "      <td>-0.345016</td>\n",
       "      <td>-0.448143</td>\n",
       "      <td>-0.339502</td>\n",
       "      <td>-0.343888</td>\n",
       "      <td>-0.347933</td>\n",
       "    </tr>\n",
       "    <tr>\n",
       "      <th>2</th>\n",
       "      <td>-0.725006</td>\n",
       "      <td>-0.425838</td>\n",
       "      <td>-0.752579</td>\n",
       "      <td>-0.395507</td>\n",
       "      <td>-0.415703</td>\n",
       "      <td>-0.409854</td>\n",
       "      <td>-0.668404</td>\n",
       "      <td>-0.397353</td>\n",
       "      <td>-0.412217</td>\n",
       "      <td>-0.399980</td>\n",
       "    </tr>\n",
       "    <tr>\n",
       "      <th>3</th>\n",
       "      <td>-0.340682</td>\n",
       "      <td>-0.312197</td>\n",
       "      <td>-0.297407</td>\n",
       "      <td>-0.285848</td>\n",
       "      <td>-0.299776</td>\n",
       "      <td>-0.285315</td>\n",
       "      <td>-0.299957</td>\n",
       "      <td>-0.288604</td>\n",
       "      <td>-0.285353</td>\n",
       "      <td>-0.287169</td>\n",
       "    </tr>\n",
       "    <tr>\n",
       "      <th>4</th>\n",
       "      <td>-0.549421</td>\n",
       "      <td>-0.414723</td>\n",
       "      <td>-0.532620</td>\n",
       "      <td>-0.472217</td>\n",
       "      <td>-0.411017</td>\n",
       "      <td>-0.399408</td>\n",
       "      <td>-0.518754</td>\n",
       "      <td>-0.397849</td>\n",
       "      <td>-0.397751</td>\n",
       "      <td>-0.400124</td>\n",
       "    </tr>\n",
       "  </tbody>\n",
       "</table>\n",
       "</div>"
      ],
      "text/plain": [
       "   DecisionTreeRegressor  RandomForestRegressor  AdaBoostRegressorDT  \\\n",
       "0              -0.315035              -0.276270            -0.298898   \n",
       "1              -0.483030              -0.363104            -0.485717   \n",
       "2              -0.725006              -0.425838            -0.752579   \n",
       "3              -0.340682              -0.312197            -0.297407   \n",
       "4              -0.549421              -0.414723            -0.532620   \n",
       "\n",
       "   AdaBoostRegressorRF  ExtraTreesRegressor  HistGradientBoostingRegressor  \\\n",
       "0            -0.267683            -0.274341                      -0.252445   \n",
       "1            -0.321525            -0.358038                      -0.345016   \n",
       "2            -0.395507            -0.415703                      -0.409854   \n",
       "3            -0.285848            -0.299776                      -0.285315   \n",
       "4            -0.472217            -0.411017                      -0.399408   \n",
       "\n",
       "   GradientBoostingRegressor  XGBoostRegressor  LightGBMRegressor  \\\n",
       "0                  -0.280780         -0.258163          -0.252148   \n",
       "1                  -0.448143         -0.339502          -0.343888   \n",
       "2                  -0.668404         -0.397353          -0.412217   \n",
       "3                  -0.299957         -0.288604          -0.285353   \n",
       "4                  -0.518754         -0.397849          -0.397751   \n",
       "\n",
       "   CatBoostRegressor  \n",
       "0          -0.254980  \n",
       "1          -0.347933  \n",
       "2          -0.399980  \n",
       "3          -0.287169  \n",
       "4          -0.400124  "
      ]
     },
     "execution_count": 50,
     "metadata": {},
     "output_type": "execute_result"
    }
   ],
   "source": [
    "#print(scores_map)\n",
    "scores_map_emsemble = pd.DataFrame(scores_map)\n",
    "scores_map_emsemble.head()"
   ]
  },
  {
   "cell_type": "code",
   "execution_count": 53,
   "metadata": {},
   "outputs": [
    {
     "name": "stdout",
     "output_type": "stream",
     "text": [
      "['DecisionTreeRegressor', 'RandomForestRegressor', 'AdaBoostRegressorDT', 'AdaBoostRegressorRF', 'ExtraTreesRegressor', 'HistGradientBoostingRegressor', 'GradientBoostingRegressor', 'XGBoostRegressor', 'LightGBMRegressor', 'CatBoostRegressor']\n"
     ]
    }
   ],
   "source": [
    "# Check the column name before and after\n",
    "#print(list(scores_map.keys()))\n",
    "dfscore = scores_map_emsemble.copy()\n",
    "name1 = list(dfscore.columns.values)\n",
    "print(name1)"
   ]
  },
  {
   "cell_type": "code",
   "execution_count": 52,
   "metadata": {},
   "outputs": [
    {
     "name": "stdout",
     "output_type": "stream",
     "text": [
      "['DecisionTreeRegressor', 'RandomForestRegressor', 'AdaBoostRegressorDT', 'AdaBoostRegressorRF', 'ExtraTreesRegressor', 'HistGradientBoostingRegressor', 'GradientBoostingRegressor', 'XGBoostRegressor', 'LightGBMRegressor', 'CatBoostRegressor']\n"
     ]
    }
   ],
   "source": []
  },
  {
   "cell_type": "code",
   "execution_count": 54,
   "metadata": {},
   "outputs": [
    {
     "name": "stdout",
     "output_type": "stream",
     "text": [
      "['DT' 'RF' 'AB-DT' 'AB-RF' 'ET' 'HGB' 'GBM' 'XGB' 'LGBM' 'CB']\n"
     ]
    }
   ],
   "source": [
    "# Rename the column name to shorter string\n",
    "name2 = ['DT', 'RF', 'AB-DT', 'AB-RF', 'ET', 'HGB', 'GBM', 'XGB', 'LGBM', 'CB']\n",
    "#name2 = ['CB', 'HGB', 'XGB', 'LGBM', 'GBM', 'AB-DT', 'RF']\n",
    "dfscore.columns = name2\n",
    "print(dfscore.columns.values)"
   ]
  },
  {
   "cell_type": "code",
   "execution_count": 75,
   "metadata": {},
   "outputs": [],
   "source": [
    "%matplotlib inline\n",
    "plt.rc('xtick', labelsize=28) \n",
    "plt.rc('ytick', labelsize=28) "
   ]
  },
  {
   "cell_type": "code",
   "execution_count": 78,
   "metadata": {},
   "outputs": [
    {
     "data": {
      "text/plain": [
       "<matplotlib.axes._subplots.AxesSubplot at 0x25f91b96dd8>"
      ]
     },
     "execution_count": 78,
     "metadata": {},
     "output_type": "execute_result"
    },
    {
     "data": {
      "image/png": "[encoded data removed]",
      "text/plain": [
       "<Figure size 1152x648 with 1 Axes>"
      ]
     },
     "metadata": {
      "needs_background": "light"
     },
     "output_type": "display_data"
    }
   ],
   "source": [
    "# Reorder the column for plot with certain order \n",
    "name3 = ['XGB', 'CB', 'HGB', 'LGBM', 'RF', 'ET', 'AB-RF', 'GBM', 'DT', 'AB-DT']\n",
    "#name3 = ['RF', 'XGB', 'CB', 'LGBM', 'HGB', 'GBM', 'AB-DT']\n",
    "dfnew = dfscore[name3] \n",
    "plt.figure(figsize=(16, 9))\n",
    "sns.boxplot(data=dfnew)"
   ]
  },
  {
   "cell_type": "code",
   "execution_count": 76,
   "metadata": {},
   "outputs": [
    {
     "data": {
      "text/plain": [
       "<matplotlib.axes._subplots.AxesSubplot at 0x25f8bc4b7f0>"
      ]
     },
     "execution_count": 76,
     "metadata": {},
     "output_type": "execute_result"
    },
    {
     "data": {
      "image/png": "[encoded data removed]",
      "text/plain": [
       "<Figure size 1152x648 with 1 Axes>"
      ]
     },
     "metadata": {
      "needs_background": "light"
     },
     "output_type": "display_data"
    }
   ],
   "source": []
  },
  {
   "cell_type": "code",
   "execution_count": null,
   "metadata": {},
   "outputs": [],
   "source": [
    "name3 = ['GBM', 'AB-DT', 'LGBM', 'HGB', 'RF', 'AB-RT', 'CB', 'XGB', 'ET']\n",
    "dfnew = dfscore[name3] \n",
    "plt.figure(figsize=(16, 9))\n",
    "sns.boxplot(data=dfnew)"
   ]
  },
  {
   "cell_type": "code",
   "execution_count": null,
   "metadata": {
    "_cell_guid": "8421b80d-d8bd-440f-be5f-0c75cc9a82e6",
    "_uuid": "b65d37fc69ab9b8ced68f0ecc7fe6c11716f39f4"
   },
   "outputs": [],
   "source": [
    "plt.figure(figsize=(20, 10))\n",
    "scores_mapA = pd.DataFrame(scores_mapA)\n",
    "sns.boxplot(data=scores_mapA)"
   ]
  },
  {
   "cell_type": "markdown",
   "metadata": {
    "_cell_guid": "a16fe973-bbdd-4d4c-a14a-8ab357b9c918",
    "_uuid": "7b6c29011f2e0791ed9239b760eec31fc2f1c37e"
   },
   "source": [
    "The models SVR and GradientBoostingRegressor show better performance with -11.62 (+/- 5.91) and -12.39 (+/- 5.86).\n",
    "\n",
    "This is my first kernel and thanks to https://www.kaggle.com/vikrishnan for the dataset and the well writtten kernel that provdies great pointers into this dataset."
   ]
  }
 ],
 "metadata": {
  "kernelspec": {
   "display_name": "Python 3",
   "language": "python",
   "name": "python3"
  },
  "language_info": {
   "codemirror_mode": {
    "name": "ipython",
    "version": 3
   },
   "file_extension": ".py",
   "mimetype": "text/x-python",
   "name": "python",
   "nbconvert_exporter": "python",
   "pygments_lexer": "ipython3",
   "version": "3.6.4"
  }
 },
 "nbformat": 4,
 "nbformat_minor": 1
}
