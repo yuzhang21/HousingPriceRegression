{
 "cells": [
  {
   "cell_type": "markdown",
   "metadata": {},
   "source": [
    "# The Boston Housing Assess Dataset Analysis Project"
   ]
  },
  {
   "cell_type": "code",
   "execution_count": 2,
   "metadata": {},
   "outputs": [],
   "source": [
    "# Part I: Initial data preprocessing\n",
    "# In this Notebook, we will clean up one dataset and save it for further analysis. "
   ]
  },
  {
   "cell_type": "code",
   "execution_count": 23,
   "metadata": {},
   "outputs": [],
   "source": [
    "import pandas as pd\n",
    "import numpy as np\n",
    "import seaborn as sns\n",
    "import matplotlib\n",
    "import matplotlib.pyplot as plt\n",
    "from IPython.core.display import HTML\n",
    "from scipy.stats import skew"
   ]
  },
  {
   "cell_type": "code",
   "execution_count": 4,
   "metadata": {},
   "outputs": [
    {
     "name": "stdout",
     "output_type": "stream",
     "text": [
      "Folder nameIn:\n",
      " M:\\Work\\Study\\WPI-DS\\CurrentCourse-DS504\\DataSets\\SelectedDataSet\\BigDataset_Download/\n",
      "Folder nameOut:\n",
      " M:\\Work\\Study\\WPI-DS\\CurrentCourse-DS504\\DataSets\\SelectedDataSet\\BigDataset_Preprocess/\n",
      "Input file name:\n",
      " M:\\Work\\Study\\WPI-DS\\CurrentCourse-DS504\\DataSets\\SelectedDataSet\\BigDataset_Download/BostonHousing_2020.csv\n"
     ]
    }
   ],
   "source": [
    "# Folders and filename\n",
    "folder = 'M:\\\\Work\\\\Study\\\\WPI-DS\\\\CurrentCourse-DS504\\\\DataSets\\\\SelectedDataSet\\\\'\n",
    "subOrg = 'BigDataset_Download/'\n",
    "subOut = 'BigDataset_Preprocess/'\n",
    "file2020 = 'BostonHousing_2020.csv'\n",
    "datafile = folder + subOrg + file2020\n",
    "\n",
    "print('Folder nameIn:\\n', folder+subOrg)\n",
    "print('Folder nameOut:\\n', folder+subOut)\n",
    "print('Input file name:\\n', datafile)\n"
   ]
  },
  {
   "cell_type": "code",
   "execution_count": 5,
   "metadata": {},
   "outputs": [
    {
     "name": "stderr",
     "output_type": "stream",
     "text": [
      "C:\\ProgramData\\Anaconda3\\lib\\site-packages\\IPython\\core\\interactiveshell.py:2728: DtypeWarning: Columns (6,15,27,28,29,34,35,36,37,38,39,40,41,42,44,45,46,47,48,58,59,64,65,66,67,68,69,70,72,73,74) have mixed types.Specify dtype option on import or set low_memory=False.\n",
      "  interactivity=interactivity, compiler=compiler, result=result)\n"
     ]
    }
   ],
   "source": [
    "dataIn = pd.read_csv(datafile)\n"
   ]
  },
  {
   "cell_type": "code",
   "execution_count": 6,
   "metadata": {},
   "outputs": [
    {
     "name": "stdout",
     "output_type": "stream",
     "text": [
      "(175052, 75)\n"
     ]
    },
    {
     "data": {
      "text/html": [
       "<div>\n",
       "<style scoped>\n",
       "    .dataframe tbody tr th:only-of-type {\n",
       "        vertical-align: middle;\n",
       "    }\n",
       "\n",
       "    .dataframe tbody tr th {\n",
       "        vertical-align: top;\n",
       "    }\n",
       "\n",
       "    .dataframe thead th {\n",
       "        text-align: right;\n",
       "    }\n",
       "</style>\n",
       "<table border=\"1\" class=\"dataframe\">\n",
       "  <thead>\n",
       "    <tr style=\"text-align: right;\">\n",
       "      <th></th>\n",
       "      <th>PID</th>\n",
       "      <th>CM_ID</th>\n",
       "      <th>GIS_ID</th>\n",
       "      <th>ST_NUM</th>\n",
       "      <th>ST_NAME</th>\n",
       "      <th>ST_NAME_SUF</th>\n",
       "      <th>UNIT_NUM</th>\n",
       "      <th>ZIPCODE</th>\n",
       "      <th>PTYPE</th>\n",
       "      <th>LU</th>\n",
       "      <th>...</th>\n",
       "      <th>U_BTH_STYLE2</th>\n",
       "      <th>U_BTH_STYLE3</th>\n",
       "      <th>U_KITCH_TYPE</th>\n",
       "      <th>U_KITCH_STYLE</th>\n",
       "      <th>U_HEAT_TYP</th>\n",
       "      <th>U_AC</th>\n",
       "      <th>U_FPLACE</th>\n",
       "      <th>U_INT_FIN</th>\n",
       "      <th>U_INT_CND</th>\n",
       "      <th>U_VIEW</th>\n",
       "    </tr>\n",
       "  </thead>\n",
       "  <tbody>\n",
       "    <tr>\n",
       "      <th>0</th>\n",
       "      <td>100271002</td>\n",
       "      <td>100271000.0</td>\n",
       "      <td>100271000</td>\n",
       "      <td>356</td>\n",
       "      <td>PRINCETON</td>\n",
       "      <td>ST</td>\n",
       "      <td>1</td>\n",
       "      <td>2128.0</td>\n",
       "      <td>102</td>\n",
       "      <td>CD</td>\n",
       "      <td>...</td>\n",
       "      <td>NaN</td>\n",
       "      <td>NaN</td>\n",
       "      <td>F - Full Eat In</td>\n",
       "      <td>M - Modern</td>\n",
       "      <td>W - Ht Water/Steam</td>\n",
       "      <td>N - None</td>\n",
       "      <td>0.0</td>\n",
       "      <td>N - Normal</td>\n",
       "      <td>G - Good</td>\n",
       "      <td>A - Average</td>\n",
       "    </tr>\n",
       "    <tr>\n",
       "      <th>1</th>\n",
       "      <td>100271004</td>\n",
       "      <td>100271000.0</td>\n",
       "      <td>100271000</td>\n",
       "      <td>356</td>\n",
       "      <td>PRINCETON</td>\n",
       "      <td>ST</td>\n",
       "      <td>2</td>\n",
       "      <td>2128.0</td>\n",
       "      <td>102</td>\n",
       "      <td>CD</td>\n",
       "      <td>...</td>\n",
       "      <td>NaN</td>\n",
       "      <td>NaN</td>\n",
       "      <td>F - Full Eat In</td>\n",
       "      <td>M - Modern</td>\n",
       "      <td>W - Ht Water/Steam</td>\n",
       "      <td>N - None</td>\n",
       "      <td>0.0</td>\n",
       "      <td>N - Normal</td>\n",
       "      <td>G - Good</td>\n",
       "      <td>A - Average</td>\n",
       "    </tr>\n",
       "    <tr>\n",
       "      <th>2</th>\n",
       "      <td>100271006</td>\n",
       "      <td>100271000.0</td>\n",
       "      <td>100271000</td>\n",
       "      <td>356</td>\n",
       "      <td>PRINCETON</td>\n",
       "      <td>ST</td>\n",
       "      <td>3</td>\n",
       "      <td>2128.0</td>\n",
       "      <td>102</td>\n",
       "      <td>CD</td>\n",
       "      <td>...</td>\n",
       "      <td>NaN</td>\n",
       "      <td>NaN</td>\n",
       "      <td>F - Full Eat In</td>\n",
       "      <td>M - Modern</td>\n",
       "      <td>W - Ht Water/Steam</td>\n",
       "      <td>N - None</td>\n",
       "      <td>0.0</td>\n",
       "      <td>N - Normal</td>\n",
       "      <td>G - Good</td>\n",
       "      <td>A - Average</td>\n",
       "    </tr>\n",
       "    <tr>\n",
       "      <th>3</th>\n",
       "      <td>100272000</td>\n",
       "      <td>NaN</td>\n",
       "      <td>100272000</td>\n",
       "      <td>352</td>\n",
       "      <td>PRINCETON</td>\n",
       "      <td>ST</td>\n",
       "      <td>NaN</td>\n",
       "      <td>2128.0</td>\n",
       "      <td>105</td>\n",
       "      <td>R3</td>\n",
       "      <td>...</td>\n",
       "      <td>NaN</td>\n",
       "      <td>NaN</td>\n",
       "      <td>NaN</td>\n",
       "      <td>NaN</td>\n",
       "      <td>NaN</td>\n",
       "      <td>NaN</td>\n",
       "      <td>NaN</td>\n",
       "      <td>NaN</td>\n",
       "      <td>NaN</td>\n",
       "      <td>NaN</td>\n",
       "    </tr>\n",
       "    <tr>\n",
       "      <th>4</th>\n",
       "      <td>100273000</td>\n",
       "      <td>NaN</td>\n",
       "      <td>100273000</td>\n",
       "      <td></td>\n",
       "      <td>PRINCETON</td>\n",
       "      <td>ST</td>\n",
       "      <td>NaN</td>\n",
       "      <td>2128.0</td>\n",
       "      <td>132</td>\n",
       "      <td>RL</td>\n",
       "      <td>...</td>\n",
       "      <td>NaN</td>\n",
       "      <td>NaN</td>\n",
       "      <td>NaN</td>\n",
       "      <td>NaN</td>\n",
       "      <td>NaN</td>\n",
       "      <td>NaN</td>\n",
       "      <td>NaN</td>\n",
       "      <td>NaN</td>\n",
       "      <td>NaN</td>\n",
       "      <td>NaN</td>\n",
       "    </tr>\n",
       "  </tbody>\n",
       "</table>\n",
       "<p>5 rows × 75 columns</p>\n",
       "</div>"
      ],
      "text/plain": [
       "         PID        CM_ID     GIS_ID ST_NUM    ST_NAME ST_NAME_SUF UNIT_NUM  \\\n",
       "0  100271002  100271000.0  100271000   356   PRINCETON         ST         1   \n",
       "1  100271004  100271000.0  100271000   356   PRINCETON         ST         2   \n",
       "2  100271006  100271000.0  100271000   356   PRINCETON         ST         3   \n",
       "3  100272000          NaN  100272000   352   PRINCETON         ST       NaN   \n",
       "4  100273000          NaN  100273000         PRINCETON         ST       NaN   \n",
       "\n",
       "   ZIPCODE  PTYPE  LU  ... U_BTH_STYLE2 U_BTH_STYLE3     U_KITCH_TYPE  \\\n",
       "0   2128.0    102  CD  ...          NaN          NaN  F - Full Eat In   \n",
       "1   2128.0    102  CD  ...          NaN          NaN  F - Full Eat In   \n",
       "2   2128.0    102  CD  ...          NaN          NaN  F - Full Eat In   \n",
       "3   2128.0    105  R3  ...          NaN          NaN              NaN   \n",
       "4   2128.0    132  RL  ...          NaN          NaN              NaN   \n",
       "\n",
       "  U_KITCH_STYLE          U_HEAT_TYP      U_AC  U_FPLACE   U_INT_FIN  \\\n",
       "0    M - Modern  W - Ht Water/Steam  N - None       0.0  N - Normal   \n",
       "1    M - Modern  W - Ht Water/Steam  N - None       0.0  N - Normal   \n",
       "2    M - Modern  W - Ht Water/Steam  N - None       0.0  N - Normal   \n",
       "3           NaN                 NaN       NaN       NaN         NaN   \n",
       "4           NaN                 NaN       NaN       NaN         NaN   \n",
       "\n",
       "   U_INT_CND       U_VIEW  \n",
       "0   G - Good  A - Average  \n",
       "1   G - Good  A - Average  \n",
       "2   G - Good  A - Average  \n",
       "3        NaN          NaN  \n",
       "4        NaN          NaN  \n",
       "\n",
       "[5 rows x 75 columns]"
      ]
     },
     "execution_count": 6,
     "metadata": {},
     "output_type": "execute_result"
    }
   ],
   "source": [
    "print(np.shape(dataIn))\n",
    "dataIn.head()\n"
   ]
  },
  {
   "cell_type": "code",
   "execution_count": 7,
   "metadata": {},
   "outputs": [
    {
     "name": "stdout",
     "output_type": "stream",
     "text": [
      "Original: (175052, 75)\n",
      "Subgroup: (175052, 66)\n"
     ]
    }
   ],
   "source": [
    "# Remove text columns in the front\n",
    "all_data = dataIn.loc[:,'LU':'U_VIEW']\n",
    "print('Original:', dataIn.shape)\n",
    "print('Subgroup:', all_data.shape)\n"
   ]
  },
  {
   "cell_type": "code",
   "execution_count": 8,
   "metadata": {},
   "outputs": [
    {
     "name": "stdout",
     "output_type": "stream",
     "text": [
      "Before drop: (175052, 66)\n",
      "After drop: (175052, 61)\n"
     ]
    }
   ],
   "source": [
    "#Remove identified text columns and remove them\n",
    "droppedColumns = ['OWNER','MAIL_ADDRESS','MAIL CS','MAIL_ZIPCODE','MAIL_ADDRESSEE']\n",
    "print('Before drop:', np.shape(all_data))\n",
    "all_data.drop(droppedColumns, axis=1, inplace=True)\n",
    "print('After drop:', np.shape(all_data))"
   ]
  },
  {
   "cell_type": "code",
   "execution_count": 9,
   "metadata": {},
   "outputs": [
    {
     "name": "stdout",
     "output_type": "stream",
     "text": [
      "<class 'pandas.core.frame.DataFrame'>\n",
      "RangeIndex: 175052 entries, 0 to 175051\n",
      "Data columns (total 61 columns):\n",
      " #   Column           Non-Null Count   Dtype  \n",
      "---  ------           --------------   -----  \n",
      " 0   LU               175052 non-null  object \n",
      " 1   OWN_OCC          175052 non-null  object \n",
      " 2   AV_LAND          175052 non-null  int64  \n",
      " 3   AV_BLDG          175052 non-null  int64  \n",
      " 4   AV_TOTAL         175052 non-null  int64  \n",
      " 5   GROSS_TAX        175052 non-null  float64\n",
      " 6   LAND_SF          175052 non-null  int64  \n",
      " 7   YR_BUILT         151644 non-null  float64\n",
      " 8   YR_REMOD         88795 non-null   float64\n",
      " 9   GROSS_AREA       152626 non-null  float64\n",
      " 10  LIVING_AREA      152626 non-null  float64\n",
      " 11  NUM_FLOORS       151538 non-null  float64\n",
      " 12  STRUCTURE_CLASS  0 non-null       float64\n",
      " 13  R_BLDG_STYL      61344 non-null   object \n",
      " 14  R_ROOF_TYP       61343 non-null   object \n",
      " 15  R_EXT_FIN        61343 non-null   object \n",
      " 16  R_TOTAL_RMS      61340 non-null   float64\n",
      " 17  R_BDRMS          61340 non-null   float64\n",
      " 18  R_FULL_BTH       61344 non-null   float64\n",
      " 19  R_HALF_BTH       61342 non-null   float64\n",
      " 20  R_BTH_STYLE      61343 non-null   object \n",
      " 21  R_BTH_STYLE2     53610 non-null   object \n",
      " 22  R_BTH_STYLE3     26530 non-null   object \n",
      " 23  R_KITCH          61332 non-null   object \n",
      " 24  R_KITCH_STYLE    61343 non-null   object \n",
      " 25  R_KITCH_STYLE2   13958 non-null   object \n",
      " 26  R_KITCH_STYLE3   13958 non-null   object \n",
      " 27  R_HEAT_TYP       61343 non-null   object \n",
      " 28  R_AC             61343 non-null   object \n",
      " 29  R_FPLACE         61342 non-null   float64\n",
      " 30  R_EXT_CND        61343 non-null   object \n",
      " 31  R_OVRALL_CND     61344 non-null   object \n",
      " 32  R_INT_CND        61343 non-null   object \n",
      " 33  R_INT_FIN        61341 non-null   object \n",
      " 34  R_VIEW           61343 non-null   object \n",
      " 35  S_NUM_BLDG       10072 non-null   float64\n",
      " 36  S_BLDG_STYL      10058 non-null   object \n",
      " 37  S_UNIT_RES       10049 non-null   float64\n",
      " 38  S_UNIT_COM       9833 non-null    float64\n",
      " 39  S_UNIT_RC        0 non-null       float64\n",
      " 40  S_EXT_FIN        10056 non-null   object \n",
      " 41  S_EXT_CND        10054 non-null   object \n",
      " 42  U_BASE_FLOOR     65256 non-null   float64\n",
      " 43  U_NUM_PARK       65245 non-null   float64\n",
      " 44  U_CORNER         65259 non-null   object \n",
      " 45  U_ORIENT         65262 non-null   object \n",
      " 46  U_TOT_RMS        65259 non-null   float64\n",
      " 47  U_BDRMS          65243 non-null   float64\n",
      " 48  U_FULL_BTH       65277 non-null   float64\n",
      " 49  U_HALF_BTH       65271 non-null   float64\n",
      " 50  U_BTH_STYLE      65263 non-null   object \n",
      " 51  U_BTH_STYLE2     26507 non-null   object \n",
      " 52  U_BTH_STYLE3     7231 non-null    object \n",
      " 53  U_KITCH_TYPE     65260 non-null   object \n",
      " 54  U_KITCH_STYLE    65261 non-null   object \n",
      " 55  U_HEAT_TYP       65263 non-null   object \n",
      " 56  U_AC             65263 non-null   object \n",
      " 57  U_FPLACE         65277 non-null   float64\n",
      " 58  U_INT_FIN        65263 non-null   object \n",
      " 59  U_INT_CND        65263 non-null   object \n",
      " 60  U_VIEW           65262 non-null   object \n",
      "dtypes: float64(23), int64(4), object(34)\n",
      "memory usage: 81.5+ MB\n",
      "None\n"
     ]
    }
   ],
   "source": [
    "print(all_data.info())"
   ]
  },
  {
   "cell_type": "code",
   "execution_count": 10,
   "metadata": {},
   "outputs": [
    {
     "name": "stdout",
     "output_type": "stream",
     "text": [
      "count    175052.0\n",
      "mean          0.0\n",
      "std           0.0\n",
      "min           0.0\n",
      "25%           0.0\n",
      "50%           0.0\n",
      "75%           0.0\n",
      "max           0.0\n",
      "dtype: float64\n"
     ]
    }
   ],
   "source": [
    "# Highly correlated columns\n",
    "diff = all_data['AV_TOTAL'] - all_data['AV_LAND'] - all_data['AV_BLDG']\n",
    "print(diff.describe())"
   ]
  },
  {
   "cell_type": "code",
   "execution_count": 12,
   "metadata": {},
   "outputs": [],
   "source": [
    "%matplotlib inline\n",
    "plt.rc('xtick', labelsize=20) \n",
    "plt.rc('ytick', labelsize=20) \n",
    "colName = 'AV_TOTAL'"
   ]
  },
  {
   "cell_type": "code",
   "execution_count": 13,
   "metadata": {},
   "outputs": [
    {
     "data": {
      "text/plain": [
       "Text(0.5,1,'log Total Assess Value')"
      ]
     },
     "execution_count": 13,
     "metadata": {},
     "output_type": "execute_result"
    },
    {
     "data": {
      "image/png": "[encoded data removed]",
      "text/plain": [
       "<Figure size 1152x432 with 2 Axes>"
      ]
     },
     "metadata": {
      "needs_background": "light"
     },
     "output_type": "display_data"
    }
   ],
   "source": [
    "# plot one column data distribution before and after log scale\n",
    "y=all_data[colName]\n",
    "matplotlib.rcParams['figure.figsize'] = (16.0, 6.0)\n",
    "prices = pd.DataFrame({\"Total Assess Value\":y, \"log(Total Assess Value + 1)\":np.log1p(y)})\n",
    "fig, axs = plt.subplots(1, 2, sharey=True)\n",
    "axs[0].hist(prices.iloc[:,0], bins=80)\n",
    "axs[1].hist(prices.iloc[:,1], bins=80)\n",
    "axs[0].set_title('Total Assess Value')\n",
    "axs[1].set_title('log Total Assess Value')"
   ]
  },
  {
   "cell_type": "code",
   "execution_count": 14,
   "metadata": {},
   "outputs": [
    {
     "name": "stdout",
     "output_type": "stream",
     "text": [
      "Before removal: (161296, 61)\n",
      "After removal: (161296, 61)\n"
     ]
    }
   ],
   "source": [
    "#Remove outliers in AV_TOTAL values\n",
    "minV = 10000\n",
    "maxV = 10000000\n",
    "print('Before removal:', all_data.shape)\n",
    "all_data.drop(all_data[all_data['AV_TOTAL'] < minV].index, inplace = True)\n",
    "all_data.drop(all_data[all_data['AV_TOTAL'] > maxV].index, inplace = True)\n",
    "print('After removal:', all_data.shape)\n"
   ]
  },
  {
   "cell_type": "code",
   "execution_count": 15,
   "metadata": {},
   "outputs": [
    {
     "name": "stdout",
     "output_type": "stream",
     "text": [
      "Total numeric features: 27\n",
      "Index(['AV_LAND', 'AV_BLDG', 'AV_TOTAL', 'GROSS_TAX', 'LAND_SF', 'YR_BUILT',\n",
      "       'YR_REMOD', 'GROSS_AREA', 'LIVING_AREA', 'NUM_FLOORS',\n",
      "       'STRUCTURE_CLASS', 'R_TOTAL_RMS', 'R_BDRMS', 'R_FULL_BTH', 'R_HALF_BTH',\n",
      "       'R_FPLACE', 'S_NUM_BLDG', 'S_UNIT_RES', 'S_UNIT_COM', 'S_UNIT_RC',\n",
      "       'U_BASE_FLOOR', 'U_NUM_PARK', 'U_TOT_RMS', 'U_BDRMS', 'U_FULL_BTH',\n",
      "       'U_HALF_BTH', 'U_FPLACE'],\n",
      "      dtype='object')\n"
     ]
    }
   ],
   "source": [
    "# Prepare log transform for skewed numeric features:\n",
    "numeric_feats = all_data.dtypes[all_data.dtypes != \"object\"].index\n",
    "print('Total numeric features:', len(numeric_feats))\n",
    "print(numeric_feats)"
   ]
  },
  {
   "cell_type": "code",
   "execution_count": 16,
   "metadata": {},
   "outputs": [
    {
     "name": "stdout",
     "output_type": "stream",
     "text": [
      "Column wise distribution of null values in the dataset\n",
      "AV_LAND                 0\n",
      "AV_BLDG                 0\n",
      "AV_TOTAL                0\n",
      "GROSS_TAX               0\n",
      "LAND_SF                 0\n",
      "YR_BUILT            21157\n",
      "YR_REMOD            81848\n",
      "GROSS_AREA          11206\n",
      "LIVING_AREA         11206\n",
      "NUM_FLOORS          21355\n",
      "STRUCTURE_CLASS    161296\n",
      "R_TOTAL_RMS         99995\n",
      "R_BDRMS             99995\n",
      "R_FULL_BTH          99991\n",
      "R_HALF_BTH          99993\n",
      "R_FPLACE            99993\n",
      "S_NUM_BLDG         161296\n",
      "S_UNIT_RES         161296\n",
      "S_UNIT_COM         161296\n",
      "S_UNIT_RC          161296\n",
      "U_BASE_FLOOR        96069\n",
      "U_NUM_PARK          96080\n",
      "U_TOT_RMS           96066\n",
      "U_BDRMS             96082\n",
      "U_FULL_BTH          96048\n",
      "U_HALF_BTH          96054\n",
      "U_FPLACE            96048\n",
      "dtype: int64\n",
      "Number of Rows 161296\n",
      "Total null values in the dataset:  2125666\n"
     ]
    }
   ],
   "source": [
    "numeric_data = all_data[numeric_feats]\n",
    "print('Column wise distribution of null values in the dataset')\n",
    "print(numeric_data.isnull().sum())\n",
    "print(\"Number of Rows\", len(numeric_data))\n",
    "print('Total null values in the dataset: ', numeric_data.isnull().values.sum())"
   ]
  },
  {
   "cell_type": "code",
   "execution_count": 17,
   "metadata": {},
   "outputs": [
    {
     "name": "stdout",
     "output_type": "stream",
     "text": [
      "AV_LAND             8.857290\n",
      "AV_BLDG             4.689974\n",
      "AV_TOTAL            4.717553\n",
      "GROSS_TAX           7.837773\n",
      "LAND_SF            32.586333\n",
      "YR_BUILT            0.729041\n",
      "YR_REMOD          -47.096803\n",
      "GROSS_AREA         22.131966\n",
      "LIVING_AREA        22.423521\n",
      "NUM_FLOORS          3.536790\n",
      "STRUCTURE_CLASS          NaN\n",
      "R_TOTAL_RMS         0.624010\n",
      "R_BDRMS             1.098354\n",
      "R_FULL_BTH          1.008019\n",
      "R_HALF_BTH          1.396937\n",
      "R_FPLACE            3.369355\n",
      "S_NUM_BLDG               NaN\n",
      "S_UNIT_RES               NaN\n",
      "S_UNIT_COM               NaN\n",
      "S_UNIT_RC                NaN\n",
      "U_BASE_FLOOR        4.696242\n",
      "U_NUM_PARK          1.208185\n",
      "U_TOT_RMS           1.145452\n",
      "U_BDRMS             1.107817\n",
      "U_FULL_BTH          2.295808\n",
      "U_HALF_BTH          1.818729\n",
      "U_FPLACE            2.423682\n",
      "dtype: float64\n"
     ]
    }
   ],
   "source": [
    "# Calc skew value for numeric features\n",
    "skewed_feats = all_data[numeric_feats].apply(lambda x: skew(x.dropna())) #compute skewness\n",
    "print(skewed_feats)"
   ]
  },
  {
   "cell_type": "code",
   "execution_count": 18,
   "metadata": {},
   "outputs": [],
   "source": [
    "# keep 0.75 not 1.25\n",
    "skewed_feats = skewed_feats[np.abs(skewed_feats) > 0.75]\n",
    "skewed_feats = skewed_feats.index\n",
    "\n",
    "all_data[skewed_feats] = np.log1p(all_data[skewed_feats])"
   ]
  },
  {
   "cell_type": "code",
   "execution_count": 19,
   "metadata": {},
   "outputs": [
    {
     "name": "stdout",
     "output_type": "stream",
     "text": [
      "Total skewed features: 20\n",
      "Index(['AV_LAND', 'AV_BLDG', 'AV_TOTAL', 'GROSS_TAX', 'LAND_SF', 'YR_REMOD',\n",
      "       'GROSS_AREA', 'LIVING_AREA', 'NUM_FLOORS', 'R_BDRMS', 'R_FULL_BTH',\n",
      "       'R_HALF_BTH', 'R_FPLACE', 'U_BASE_FLOOR', 'U_NUM_PARK', 'U_TOT_RMS',\n",
      "       'U_BDRMS', 'U_FULL_BTH', 'U_HALF_BTH', 'U_FPLACE'],\n",
      "      dtype='object')\n"
     ]
    }
   ],
   "source": [
    "print('Total skewed features:', len(skewed_feats))\n",
    "print(skewed_feats)"
   ]
  },
  {
   "cell_type": "code",
   "execution_count": 20,
   "metadata": {},
   "outputs": [
    {
     "name": "stdout",
     "output_type": "stream",
     "text": [
      "Before drop: (161296, 61)\n",
      "After drop: (161296, 56)\n"
     ]
    }
   ],
   "source": [
    "#Second drop for all NAN columns\n",
    "droppedColumns = ['STRUCTURE_CLASS','S_UNIT_RC','S_NUM_BLDG','S_UNIT_RES','S_UNIT_COM']\n",
    "#droppedColumns = ['S_BLDG_STYL','S_EXT_FIN', 'S_EXT_CND']\n",
    "print('Before drop:', np.shape(all_data))\n",
    "all_data.drop(droppedColumns, axis=1, inplace=True)\n",
    "print('After drop:', np.shape(all_data))"
   ]
  },
  {
   "cell_type": "code",
   "execution_count": 27,
   "metadata": {},
   "outputs": [
    {
     "name": "stdout",
     "output_type": "stream",
     "text": [
      "Column wise distribution of null values in the dataset\n",
      "LU                     0\n",
      "OWN_OCC                0\n",
      "AV_LAND                0\n",
      "AV_BLDG                0\n",
      "AV_TOTAL               0\n",
      "GROSS_TAX              0\n",
      "LAND_SF                0\n",
      "YR_BUILT               0\n",
      "YR_REMOD               0\n",
      "GROSS_AREA             0\n",
      "LIVING_AREA            0\n",
      "NUM_FLOORS             0\n",
      "R_BLDG_STYL        99991\n",
      "R_ROOF_TYP         99992\n",
      "R_EXT_FIN          99992\n",
      "R_TOTAL_RMS            0\n",
      "R_BDRMS                0\n",
      "R_FULL_BTH             0\n",
      "R_HALF_BTH             0\n",
      "R_BTH_STYLE        99992\n",
      "R_BTH_STYLE2      107725\n",
      "R_BTH_STYLE3      134805\n",
      "R_KITCH           100003\n",
      "R_KITCH_STYLE      99992\n",
      "R_KITCH_STYLE2    147346\n",
      "R_KITCH_STYLE3    147346\n",
      "R_HEAT_TYP         99992\n",
      "R_AC               99992\n",
      "R_FPLACE               0\n",
      "R_EXT_CND          99992\n",
      "R_OVRALL_CND       99991\n",
      "R_INT_CND          99992\n",
      "R_INT_FIN          99994\n",
      "R_VIEW             99992\n",
      "S_BLDG_STYL       161296\n",
      "S_EXT_FIN         161296\n",
      "S_EXT_CND         161296\n",
      "U_BASE_FLOOR           0\n",
      "U_NUM_PARK             0\n",
      "U_CORNER           96066\n",
      "U_ORIENT           96063\n",
      "U_TOT_RMS              0\n",
      "U_BDRMS                0\n",
      "U_FULL_BTH             0\n",
      "U_HALF_BTH             0\n",
      "U_BTH_STYLE        96062\n",
      "U_BTH_STYLE2      134815\n",
      "U_BTH_STYLE3      154091\n",
      "U_KITCH_TYPE       96065\n",
      "U_KITCH_STYLE      96064\n",
      "U_HEAT_TYP         96062\n",
      "U_AC               96062\n",
      "U_FPLACE               0\n",
      "U_INT_FIN          96062\n",
      "U_INT_CND          96062\n",
      "U_VIEW             96063\n",
      "dtype: int64\n",
      "Number of Rows 161296\n"
     ]
    }
   ],
   "source": [
    "# Use this block to count nans existed in the dataset and for each column\n",
    "print('Column wise distribution of null values in the dataset')\n",
    "print(all_data.isnull().sum())\n",
    "print(\"Number of Rows\", len(all_data))"
   ]
  },
  {
   "cell_type": "code",
   "execution_count": 28,
   "metadata": {},
   "outputs": [
    {
     "name": "stdout",
     "output_type": "stream",
     "text": [
      "Before drop: (161296, 56)\n",
      "After drop: (161296, 53)\n"
     ]
    }
   ],
   "source": [
    "#Second drop for all NAN columns\n",
    "droppedColumns = ['S_BLDG_STYL','S_EXT_FIN', 'S_EXT_CND']\n",
    "#droppedColumns = ['R_KITCH_STYLE2', 'R_KITCH_STYLE2', 'R_BTH_STYLE2', 'R_BTH_STYLE3', 'U_BTH_STYLE2', 'U_BTH_STYLE3']\n",
    "print('Before drop:', np.shape(all_data))\n",
    "all_data.drop(droppedColumns, axis=1, inplace=True)\n",
    "print('After drop:', np.shape(all_data))"
   ]
  },
  {
   "cell_type": "code",
   "execution_count": 29,
   "metadata": {},
   "outputs": [
    {
     "name": "stdout",
     "output_type": "stream",
     "text": [
      "(161296, 53)\n"
     ]
    }
   ],
   "source": [
    "#Fill na value with mean for numerical data\n",
    "all_data = all_data.fillna(all_data.mean())\n",
    "print(all_data.shape)"
   ]
  },
  {
   "cell_type": "code",
   "execution_count": 30,
   "metadata": {},
   "outputs": [
    {
     "name": "stdout",
     "output_type": "stream",
     "text": [
      "(161296, 53)\n"
     ]
    },
    {
     "data": {
      "text/html": [
       "<table border=\"1\" class=\"dataframe\">\n",
       "  <thead>\n",
       "    <tr style=\"text-align: right;\">\n",
       "      <th></th>\n",
       "      <th>LU</th>\n",
       "      <th>OWN_OCC</th>\n",
       "      <th>AV_LAND</th>\n",
       "      <th>AV_BLDG</th>\n",
       "      <th>AV_TOTAL</th>\n",
       "      <th>GROSS_TAX</th>\n",
       "      <th>LAND_SF</th>\n",
       "      <th>YR_BUILT</th>\n",
       "      <th>YR_REMOD</th>\n",
       "      <th>GROSS_AREA</th>\n",
       "      <th>LIVING_AREA</th>\n",
       "      <th>NUM_FLOORS</th>\n",
       "      <th>R_BLDG_STYL</th>\n",
       "      <th>R_ROOF_TYP</th>\n",
       "      <th>R_EXT_FIN</th>\n",
       "      <th>R_TOTAL_RMS</th>\n",
       "      <th>R_BDRMS</th>\n",
       "      <th>R_FULL_BTH</th>\n",
       "      <th>R_HALF_BTH</th>\n",
       "      <th>R_BTH_STYLE</th>\n",
       "      <th>R_BTH_STYLE2</th>\n",
       "      <th>R_BTH_STYLE3</th>\n",
       "      <th>R_KITCH</th>\n",
       "      <th>R_KITCH_STYLE</th>\n",
       "      <th>R_KITCH_STYLE2</th>\n",
       "      <th>R_KITCH_STYLE3</th>\n",
       "      <th>R_HEAT_TYP</th>\n",
       "      <th>R_AC</th>\n",
       "      <th>R_FPLACE</th>\n",
       "      <th>R_EXT_CND</th>\n",
       "      <th>R_OVRALL_CND</th>\n",
       "      <th>R_INT_CND</th>\n",
       "      <th>R_INT_FIN</th>\n",
       "      <th>R_VIEW</th>\n",
       "      <th>U_BASE_FLOOR</th>\n",
       "      <th>U_NUM_PARK</th>\n",
       "      <th>U_CORNER</th>\n",
       "      <th>U_ORIENT</th>\n",
       "      <th>U_TOT_RMS</th>\n",
       "      <th>U_BDRMS</th>\n",
       "      <th>U_FULL_BTH</th>\n",
       "      <th>U_HALF_BTH</th>\n",
       "      <th>U_BTH_STYLE</th>\n",
       "      <th>U_BTH_STYLE2</th>\n",
       "      <th>U_BTH_STYLE3</th>\n",
       "      <th>U_KITCH_TYPE</th>\n",
       "      <th>U_KITCH_STYLE</th>\n",
       "      <th>U_HEAT_TYP</th>\n",
       "      <th>U_AC</th>\n",
       "      <th>U_FPLACE</th>\n",
       "      <th>U_INT_FIN</th>\n",
       "      <th>U_INT_CND</th>\n",
       "      <th>U_VIEW</th>\n",
       "    </tr>\n",
       "  </thead>\n",
       "  <tbody>\n",
       "    <tr>\n",
       "      <th>0</th>\n",
       "      <td>CD</td>\n",
       "      <td>Y</td>\n",
       "      <td>0.000000</td>\n",
       "      <td>12.806833</td>\n",
       "      <td>12.806833</td>\n",
       "      <td>8.256407</td>\n",
       "      <td>0.000000</td>\n",
       "      <td>1900.000000</td>\n",
       "      <td>7.610358</td>\n",
       "      <td>6.674561</td>\n",
       "      <td>6.674561</td>\n",
       "      <td>0.693147</td>\n",
       "      <td>NaN</td>\n",
       "      <td>NaN</td>\n",
       "      <td>NaN</td>\n",
       "      <td>10.084974</td>\n",
       "      <td>1.678680</td>\n",
       "      <td>1.077132</td>\n",
       "      <td>0.248965</td>\n",
       "      <td>NaN</td>\n",
       "      <td>NaN</td>\n",
       "      <td>NaN</td>\n",
       "      <td>NaN</td>\n",
       "      <td>NaN</td>\n",
       "      <td>NaN</td>\n",
       "      <td>NaN</td>\n",
       "      <td>NaN</td>\n",
       "      <td>NaN</td>\n",
       "      <td>0.233692</td>\n",
       "      <td>NaN</td>\n",
       "      <td>NaN</td>\n",
       "      <td>NaN</td>\n",
       "      <td>NaN</td>\n",
       "      <td>NaN</td>\n",
       "      <td>0.693147</td>\n",
       "      <td>0.000000</td>\n",
       "      <td>N - No</td>\n",
       "      <td>T - Through</td>\n",
       "      <td>1.609438</td>\n",
       "      <td>1.098612</td>\n",
       "      <td>0.693147</td>\n",
       "      <td>0.000000</td>\n",
       "      <td>M - Modern</td>\n",
       "      <td>NaN</td>\n",
       "      <td>NaN</td>\n",
       "      <td>F - Full Eat In</td>\n",
       "      <td>M - Modern</td>\n",
       "      <td>W - Ht Water/Steam</td>\n",
       "      <td>N - None</td>\n",
       "      <td>0.000000</td>\n",
       "      <td>N - Normal</td>\n",
       "      <td>G - Good</td>\n",
       "      <td>A - Average</td>\n",
       "    </tr>\n",
       "    <tr>\n",
       "      <th>1</th>\n",
       "      <td>CD</td>\n",
       "      <td>Y</td>\n",
       "      <td>0.000000</td>\n",
       "      <td>12.830408</td>\n",
       "      <td>12.830408</td>\n",
       "      <td>8.279976</td>\n",
       "      <td>0.000000</td>\n",
       "      <td>1900.000000</td>\n",
       "      <td>7.610358</td>\n",
       "      <td>6.684612</td>\n",
       "      <td>6.684612</td>\n",
       "      <td>0.693147</td>\n",
       "      <td>NaN</td>\n",
       "      <td>NaN</td>\n",
       "      <td>NaN</td>\n",
       "      <td>10.084974</td>\n",
       "      <td>1.678680</td>\n",
       "      <td>1.077132</td>\n",
       "      <td>0.248965</td>\n",
       "      <td>NaN</td>\n",
       "      <td>NaN</td>\n",
       "      <td>NaN</td>\n",
       "      <td>NaN</td>\n",
       "      <td>NaN</td>\n",
       "      <td>NaN</td>\n",
       "      <td>NaN</td>\n",
       "      <td>NaN</td>\n",
       "      <td>NaN</td>\n",
       "      <td>0.233692</td>\n",
       "      <td>NaN</td>\n",
       "      <td>NaN</td>\n",
       "      <td>NaN</td>\n",
       "      <td>NaN</td>\n",
       "      <td>NaN</td>\n",
       "      <td>1.098612</td>\n",
       "      <td>0.000000</td>\n",
       "      <td>N - No</td>\n",
       "      <td>T - Through</td>\n",
       "      <td>1.791759</td>\n",
       "      <td>1.386294</td>\n",
       "      <td>0.693147</td>\n",
       "      <td>0.000000</td>\n",
       "      <td>M - Modern</td>\n",
       "      <td>NaN</td>\n",
       "      <td>NaN</td>\n",
       "      <td>F - Full Eat In</td>\n",
       "      <td>M - Modern</td>\n",
       "      <td>W - Ht Water/Steam</td>\n",
       "      <td>N - None</td>\n",
       "      <td>0.000000</td>\n",
       "      <td>N - Normal</td>\n",
       "      <td>G - Good</td>\n",
       "      <td>A - Average</td>\n",
       "    </tr>\n",
       "    <tr>\n",
       "      <th>2</th>\n",
       "      <td>CD</td>\n",
       "      <td>N</td>\n",
       "      <td>0.000000</td>\n",
       "      <td>12.885123</td>\n",
       "      <td>12.885123</td>\n",
       "      <td>8.334678</td>\n",
       "      <td>0.000000</td>\n",
       "      <td>1900.000000</td>\n",
       "      <td>7.610358</td>\n",
       "      <td>6.812345</td>\n",
       "      <td>6.812345</td>\n",
       "      <td>0.693147</td>\n",
       "      <td>NaN</td>\n",
       "      <td>NaN</td>\n",
       "      <td>NaN</td>\n",
       "      <td>10.084974</td>\n",
       "      <td>1.678680</td>\n",
       "      <td>1.077132</td>\n",
       "      <td>0.248965</td>\n",
       "      <td>NaN</td>\n",
       "      <td>NaN</td>\n",
       "      <td>NaN</td>\n",
       "      <td>NaN</td>\n",
       "      <td>NaN</td>\n",
       "      <td>NaN</td>\n",
       "      <td>NaN</td>\n",
       "      <td>NaN</td>\n",
       "      <td>NaN</td>\n",
       "      <td>0.233692</td>\n",
       "      <td>NaN</td>\n",
       "      <td>NaN</td>\n",
       "      <td>NaN</td>\n",
       "      <td>NaN</td>\n",
       "      <td>NaN</td>\n",
       "      <td>1.386294</td>\n",
       "      <td>0.000000</td>\n",
       "      <td>N - No</td>\n",
       "      <td>T - Through</td>\n",
       "      <td>1.791759</td>\n",
       "      <td>1.386294</td>\n",
       "      <td>0.693147</td>\n",
       "      <td>0.000000</td>\n",
       "      <td>M - Modern</td>\n",
       "      <td>NaN</td>\n",
       "      <td>NaN</td>\n",
       "      <td>F - Full Eat In</td>\n",
       "      <td>M - Modern</td>\n",
       "      <td>W - Ht Water/Steam</td>\n",
       "      <td>N - None</td>\n",
       "      <td>0.000000</td>\n",
       "      <td>N - Normal</td>\n",
       "      <td>G - Good</td>\n",
       "      <td>A - Average</td>\n",
       "    </tr>\n",
       "    <tr>\n",
       "      <th>3</th>\n",
       "      <td>R3</td>\n",
       "      <td>Y</td>\n",
       "      <td>12.765120</td>\n",
       "      <td>12.782408</td>\n",
       "      <td>13.466947</td>\n",
       "      <td>8.916397</td>\n",
       "      <td>8.517393</td>\n",
       "      <td>1900.000000</td>\n",
       "      <td>7.600315</td>\n",
       "      <td>8.197814</td>\n",
       "      <td>7.785305</td>\n",
       "      <td>1.252763</td>\n",
       "      <td>CV - Conventional</td>\n",
       "      <td>G - Gable</td>\n",
       "      <td>M - Vinyl</td>\n",
       "      <td>13.000000</td>\n",
       "      <td>2.079442</td>\n",
       "      <td>1.386294</td>\n",
       "      <td>0.000000</td>\n",
       "      <td>S - Semi-Modern</td>\n",
       "      <td>S - Semi-Modern</td>\n",
       "      <td>S - Semi-Modern</td>\n",
       "      <td>3F - 3 Full Eat In K</td>\n",
       "      <td>S - Semi-Modern</td>\n",
       "      <td>S - Semi-Modern</td>\n",
       "      <td>S - Semi-Modern</td>\n",
       "      <td>S - Space Heat</td>\n",
       "      <td>N - None</td>\n",
       "      <td>0.000000</td>\n",
       "      <td>A - Average</td>\n",
       "      <td>A - Average</td>\n",
       "      <td>A - Average</td>\n",
       "      <td>N - Normal</td>\n",
       "      <td>A - Average</td>\n",
       "      <td>1.178433</td>\n",
       "      <td>0.316762</td>\n",
       "      <td>NaN</td>\n",
       "      <td>NaN</td>\n",
       "      <td>1.611546</td>\n",
       "      <td>0.973287</td>\n",
       "      <td>0.831791</td>\n",
       "      <td>0.127162</td>\n",
       "      <td>NaN</td>\n",
       "      <td>NaN</td>\n",
       "      <td>NaN</td>\n",
       "      <td>NaN</td>\n",
       "      <td>NaN</td>\n",
       "      <td>NaN</td>\n",
       "      <td>NaN</td>\n",
       "      <td>0.192492</td>\n",
       "      <td>NaN</td>\n",
       "      <td>NaN</td>\n",
       "      <td>NaN</td>\n",
       "    </tr>\n",
       "    <tr>\n",
       "      <th>4</th>\n",
       "      <td>RL</td>\n",
       "      <td>N</td>\n",
       "      <td>10.555839</td>\n",
       "      <td>0.000000</td>\n",
       "      <td>10.555839</td>\n",
       "      <td>6.007584</td>\n",
       "      <td>7.550135</td>\n",
       "      <td>1928.356218</td>\n",
       "      <td>7.600315</td>\n",
       "      <td>7.140575</td>\n",
       "      <td>6.919180</td>\n",
       "      <td>0.987375</td>\n",
       "      <td>NaN</td>\n",
       "      <td>NaN</td>\n",
       "      <td>NaN</td>\n",
       "      <td>10.084974</td>\n",
       "      <td>1.678680</td>\n",
       "      <td>1.077132</td>\n",
       "      <td>0.248965</td>\n",
       "      <td>NaN</td>\n",
       "      <td>NaN</td>\n",
       "      <td>NaN</td>\n",
       "      <td>NaN</td>\n",
       "      <td>NaN</td>\n",
       "      <td>NaN</td>\n",
       "      <td>NaN</td>\n",
       "      <td>NaN</td>\n",
       "      <td>NaN</td>\n",
       "      <td>0.233692</td>\n",
       "      <td>NaN</td>\n",
       "      <td>NaN</td>\n",
       "      <td>NaN</td>\n",
       "      <td>NaN</td>\n",
       "      <td>NaN</td>\n",
       "      <td>1.178433</td>\n",
       "      <td>0.316762</td>\n",
       "      <td>NaN</td>\n",
       "      <td>NaN</td>\n",
       "      <td>1.611546</td>\n",
       "      <td>0.973287</td>\n",
       "      <td>0.831791</td>\n",
       "      <td>0.127162</td>\n",
       "      <td>NaN</td>\n",
       "      <td>NaN</td>\n",
       "      <td>NaN</td>\n",
       "      <td>NaN</td>\n",
       "      <td>NaN</td>\n",
       "      <td>NaN</td>\n",
       "      <td>NaN</td>\n",
       "      <td>0.192492</td>\n",
       "      <td>NaN</td>\n",
       "      <td>NaN</td>\n",
       "      <td>NaN</td>\n",
       "    </tr>\n",
       "  </tbody>\n",
       "</table>"
      ],
      "text/plain": [
       "<IPython.core.display.HTML object>"
      ]
     },
     "metadata": {},
     "output_type": "display_data"
    }
   ],
   "source": [
    "print(np.shape(all_data))\n",
    "display(HTML(all_data.head().to_html()))"
   ]
  },
  {
   "cell_type": "code",
   "execution_count": 31,
   "metadata": {},
   "outputs": [
    {
     "name": "stdout",
     "output_type": "stream",
     "text": [
      "Total numeric features: 22\n",
      "Index(['AV_LAND', 'AV_BLDG', 'AV_TOTAL', 'GROSS_TAX', 'LAND_SF', 'YR_BUILT',\n",
      "       'YR_REMOD', 'GROSS_AREA', 'LIVING_AREA', 'NUM_FLOORS', 'R_TOTAL_RMS',\n",
      "       'R_BDRMS', 'R_FULL_BTH', 'R_HALF_BTH', 'R_FPLACE', 'U_BASE_FLOOR',\n",
      "       'U_NUM_PARK', 'U_TOT_RMS', 'U_BDRMS', 'U_FULL_BTH', 'U_HALF_BTH',\n",
      "       'U_FPLACE'],\n",
      "      dtype='object')\n"
     ]
    }
   ],
   "source": [
    "# Prepare log transform for skewed numeric features:\n",
    "numeric_feats = all_data.dtypes[all_data.dtypes != \"object\"].index\n",
    "print('Total numeric features:', len(numeric_feats))\n",
    "print(numeric_feats)\n",
    "#26 -> #22"
   ]
  },
  {
   "cell_type": "code",
   "execution_count": 32,
   "metadata": {},
   "outputs": [
    {
     "data": {
      "image/png": "[encoded data removed]",
      "text/plain": [
       "<Figure size 864x648 with 2 Axes>"
      ]
     },
     "metadata": {
      "needs_background": "light"
     },
     "output_type": "display_data"
    }
   ],
   "source": [
    "#plot correlation matrix\n",
    "plt.rc('xtick', labelsize=16) \n",
    "plt.rc('ytick', labelsize=16) \n",
    "numeric_data = all_data[numeric_feats]\n",
    "corrmat = numeric_data.corr()\n",
    "f, ax = plt.subplots(figsize=(12, 9))\n",
    "sns.heatmap(corrmat, vmax=1.0, square=True);\n",
    "plt.show()"
   ]
  },
  {
   "cell_type": "code",
   "execution_count": 33,
   "metadata": {},
   "outputs": [
    {
     "name": "stdout",
     "output_type": "stream",
     "text": [
      "Before drop: (161296, 53)\n",
      "After drop: (161296, 46)\n"
     ]
    }
   ],
   "source": [
    "#Third drop for Correlated columns\n",
    "droppedColumns = ['AV_LAND','AV_BLDG','LAND_SF','GROSS_TAX','GROSS_AREA','R_TOTAL_RMS','U_TOT_RMS']\n",
    "print('Before drop:', np.shape(all_data))\n",
    "all_data.drop(droppedColumns, axis=1, inplace=True)\n",
    "print('After drop:', np.shape(all_data))\n"
   ]
  },
  {
   "cell_type": "code",
   "execution_count": 34,
   "metadata": {},
   "outputs": [
    {
     "name": "stdout",
     "output_type": "stream",
     "text": [
      "Total numeric features: 15\n",
      "Index(['AV_TOTAL', 'YR_BUILT', 'YR_REMOD', 'LIVING_AREA', 'NUM_FLOORS',\n",
      "       'R_BDRMS', 'R_FULL_BTH', 'R_HALF_BTH', 'R_FPLACE', 'U_BASE_FLOOR',\n",
      "       'U_NUM_PARK', 'U_BDRMS', 'U_FULL_BTH', 'U_HALF_BTH', 'U_FPLACE'],\n",
      "      dtype='object')\n"
     ]
    }
   ],
   "source": [
    "# Prepare log transform for skewed numeric features:\n",
    "numeric_feats = all_data.dtypes[all_data.dtypes != \"object\"].index\n",
    "print('Total numeric features:', len(numeric_feats))\n",
    "print(numeric_feats)\n",
    "#22 -> #15"
   ]
  },
  {
   "cell_type": "code",
   "execution_count": 35,
   "metadata": {},
   "outputs": [
    {
     "data": {
      "image/png": "[encoded data removed]",
      "text/plain": [
       "<Figure size 864x648 with 2 Axes>"
      ]
     },
     "metadata": {
      "needs_background": "light"
     },
     "output_type": "display_data"
    }
   ],
   "source": [
    "#plot correlation matrix\n",
    "plt.rc('xtick', labelsize=16) \n",
    "plt.rc('ytick', labelsize=16) \n",
    "numeric_data = all_data[numeric_feats]\n",
    "corrmat = numeric_data.corr()\n",
    "f, ax = plt.subplots(figsize=(12, 9))\n",
    "sns.heatmap(corrmat, vmax=1.0, square=True);\n",
    "plt.show()"
   ]
  },
  {
   "cell_type": "code",
   "execution_count": 36,
   "metadata": {},
   "outputs": [
    {
     "name": "stdout",
     "output_type": "stream",
     "text": [
      "M:/Work/Study/WPI-DS/CurrentCourse-DS504/DataSets/SelectedDataSet/BigDataset_Preprocess/BH_BigDataset_2020.csv\n",
      "M:/Work/Study/WPI-DS/CurrentCourse-DS504/DataSets/SelectedDataSet/BigDataset_Preprocess/BH_BigDataset_2020Full.csv\n"
     ]
    }
   ],
   "source": [
    "myDataPath = 'M:/Work/Study/WPI-DS/CurrentCourse-DS504/DataSets/SelectedDataSet/BigDataset_Preprocess/'\n",
    "outBigFile = 'BH_BigDataset_2020.csv'\n",
    "outExpandFile = 'BH_BigDataset_2020Full.csv'\n",
    "fileBigData = myDataPath + outBigFile\n",
    "fileExpandData = myDataPath + outExpandFile\n",
    "print(fileBigData)\n",
    "print(fileExpandData)"
   ]
  },
  {
   "cell_type": "code",
   "execution_count": 37,
   "metadata": {},
   "outputs": [
    {
     "name": "stdout",
     "output_type": "stream",
     "text": [
      "File saved to: M:/Work/Study/WPI-DS/CurrentCourse-DS504/DataSets/SelectedDataSet/BigDataset_Preprocess/BH_BigDataset_2020.csv\n"
     ]
    }
   ],
   "source": [
    "# We save processed file to a different name for later use\n",
    "all_data.to_csv(fileBigData, index=False)\n",
    "print('File saved to:', fileBigData)"
   ]
  },
  {
   "cell_type": "code",
   "execution_count": 38,
   "metadata": {},
   "outputs": [
    {
     "name": "stdout",
     "output_type": "stream",
     "text": [
      "Before drop: (161296, 46)\n",
      "After drop: (161296, 197)\n"
     ]
    }
   ],
   "source": [
    "#Apply categorical data conversion\n",
    "print('Before drop:', np.shape(all_data))\n",
    "all_data = pd.get_dummies(all_data)\n",
    "print('After drop:', np.shape(all_data))"
   ]
  },
  {
   "cell_type": "code",
   "execution_count": 39,
   "metadata": {},
   "outputs": [
    {
     "name": "stdout",
     "output_type": "stream",
     "text": [
      "File saved to: M:/Work/Study/WPI-DS/CurrentCourse-DS504/DataSets/SelectedDataSet/BigDataset_Preprocess/BH_BigDataset_2020Full.csv\n"
     ]
    }
   ],
   "source": [
    "# We save processed file to a different name for later use\n",
    "all_data.to_csv(fileExpandData, index=False)\n",
    "print('File saved to:', fileExpandData)"
   ]
  }
 ],
 "metadata": {
  "kernelspec": {
   "display_name": "Python 3",
   "language": "python",
   "name": "python3"
  },
  "language_info": {
   "codemirror_mode": {
    "name": "ipython",
    "version": 3
   },
   "file_extension": ".py",
   "mimetype": "text/x-python",
   "name": "python",
   "nbconvert_exporter": "python",
   "pygments_lexer": "ipython3",
   "version": "3.6.4"
  }
 },
 "nbformat": 4,
 "nbformat_minor": 2
}
